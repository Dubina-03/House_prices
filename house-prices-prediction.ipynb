{
 "cells": [
  {
   "cell_type": "markdown",
   "id": "5325b698",
   "metadata": {
    "papermill": {
     "duration": 0.047989,
     "end_time": "2022-06-13T20:34:27.722561",
     "exception": false,
     "start_time": "2022-06-13T20:34:27.674572",
     "status": "completed"
    },
    "tags": []
   },
   "source": [
    "Import libraries"
   ]
  },
  {
   "cell_type": "code",
   "execution_count": 1,
   "id": "f7538216",
   "metadata": {
    "_cell_guid": "b1076dfc-b9ad-4769-8c92-a6c4dae69d19",
    "_uuid": "8f2839f25d086af736a60e9eeb907d3b93b6e0e5",
    "execution": {
     "iopub.execute_input": "2022-06-13T20:34:27.824963Z",
     "iopub.status.busy": "2022-06-13T20:34:27.823164Z",
     "iopub.status.idle": "2022-06-13T20:34:29.404474Z",
     "shell.execute_reply": "2022-06-13T20:34:29.405135Z",
     "shell.execute_reply.started": "2022-06-13T20:33:27.421769Z"
    },
    "papermill": {
     "duration": 1.635564,
     "end_time": "2022-06-13T20:34:29.405434",
     "exception": false,
     "start_time": "2022-06-13T20:34:27.769870",
     "status": "completed"
    },
    "tags": []
   },
   "outputs": [],
   "source": [
    "import numpy as np # linear algebra\n",
    "import pandas as pd # data processing, CSV file I/O (e.g. pd.read_csv)\n",
    "import matplotlib.pyplot as plt\n",
    "import seaborn as sns\n",
    "from scipy import stats\n",
    "from sklearn.model_selection import train_test_split\n",
    "from sklearn.linear_model import LinearRegression, Lasso, Ridge, ElasticNet\n",
    "from sklearn.ensemble import RandomForestRegressor\n",
    "from sklearn.preprocessing import StandardScaler, MinMaxScaler\n",
    "from sklearn.model_selection import GridSearchCV, cross_val_score\n",
    "from sklearn.model_selection import RepeatedKFold\n",
    "import sklearn.metrics as sm"
   ]
  },
  {
   "cell_type": "markdown",
   "id": "414778ab",
   "metadata": {
    "papermill": {
     "duration": 0.046518,
     "end_time": "2022-06-13T20:34:29.502455",
     "exception": false,
     "start_time": "2022-06-13T20:34:29.455937",
     "status": "completed"
    },
    "tags": []
   },
   "source": [
    "Reading data"
   ]
  },
  {
   "cell_type": "code",
   "execution_count": 2,
   "id": "0ebc5b35",
   "metadata": {
    "execution": {
     "iopub.execute_input": "2022-06-13T20:34:29.602947Z",
     "iopub.status.busy": "2022-06-13T20:34:29.602154Z",
     "iopub.status.idle": "2022-06-13T20:34:29.751815Z",
     "shell.execute_reply": "2022-06-13T20:34:29.752368Z",
     "shell.execute_reply.started": "2022-06-13T20:33:27.622478Z"
    },
    "papermill": {
     "duration": 0.203053,
     "end_time": "2022-06-13T20:34:29.752543",
     "exception": false,
     "start_time": "2022-06-13T20:34:29.549490",
     "status": "completed"
    },
    "tags": []
   },
   "outputs": [
    {
     "data": {
      "text/html": [
       "<div>\n",
       "<style scoped>\n",
       "    .dataframe tbody tr th:only-of-type {\n",
       "        vertical-align: middle;\n",
       "    }\n",
       "\n",
       "    .dataframe tbody tr th {\n",
       "        vertical-align: top;\n",
       "    }\n",
       "\n",
       "    .dataframe thead th {\n",
       "        text-align: right;\n",
       "    }\n",
       "</style>\n",
       "<table border=\"1\" class=\"dataframe\">\n",
       "  <thead>\n",
       "    <tr style=\"text-align: right;\">\n",
       "      <th></th>\n",
       "      <th>MSSubClass</th>\n",
       "      <th>MSZoning</th>\n",
       "      <th>LotFrontage</th>\n",
       "      <th>LotArea</th>\n",
       "      <th>Street</th>\n",
       "      <th>Alley</th>\n",
       "      <th>LotShape</th>\n",
       "      <th>LandContour</th>\n",
       "      <th>Utilities</th>\n",
       "      <th>LotConfig</th>\n",
       "      <th>LandSlope</th>\n",
       "      <th>Neighborhood</th>\n",
       "      <th>Condition1</th>\n",
       "      <th>Condition2</th>\n",
       "      <th>BldgType</th>\n",
       "      <th>HouseStyle</th>\n",
       "      <th>OverallQual</th>\n",
       "      <th>OverallCond</th>\n",
       "      <th>YearBuilt</th>\n",
       "      <th>YearRemodAdd</th>\n",
       "      <th>RoofStyle</th>\n",
       "      <th>RoofMatl</th>\n",
       "      <th>Exterior1st</th>\n",
       "      <th>Exterior2nd</th>\n",
       "      <th>MasVnrType</th>\n",
       "      <th>MasVnrArea</th>\n",
       "      <th>ExterQual</th>\n",
       "      <th>ExterCond</th>\n",
       "      <th>Foundation</th>\n",
       "      <th>BsmtQual</th>\n",
       "      <th>BsmtCond</th>\n",
       "      <th>BsmtExposure</th>\n",
       "      <th>BsmtFinType1</th>\n",
       "      <th>BsmtFinSF1</th>\n",
       "      <th>BsmtFinType2</th>\n",
       "      <th>BsmtFinSF2</th>\n",
       "      <th>BsmtUnfSF</th>\n",
       "      <th>TotalBsmtSF</th>\n",
       "      <th>Heating</th>\n",
       "      <th>HeatingQC</th>\n",
       "      <th>CentralAir</th>\n",
       "      <th>Electrical</th>\n",
       "      <th>1stFlrSF</th>\n",
       "      <th>2ndFlrSF</th>\n",
       "      <th>LowQualFinSF</th>\n",
       "      <th>GrLivArea</th>\n",
       "      <th>BsmtFullBath</th>\n",
       "      <th>BsmtHalfBath</th>\n",
       "      <th>FullBath</th>\n",
       "      <th>HalfBath</th>\n",
       "      <th>BedroomAbvGr</th>\n",
       "      <th>KitchenAbvGr</th>\n",
       "      <th>KitchenQual</th>\n",
       "      <th>TotRmsAbvGrd</th>\n",
       "      <th>Functional</th>\n",
       "      <th>Fireplaces</th>\n",
       "      <th>FireplaceQu</th>\n",
       "      <th>GarageType</th>\n",
       "      <th>GarageYrBlt</th>\n",
       "      <th>GarageFinish</th>\n",
       "      <th>GarageCars</th>\n",
       "      <th>GarageArea</th>\n",
       "      <th>GarageQual</th>\n",
       "      <th>GarageCond</th>\n",
       "      <th>PavedDrive</th>\n",
       "      <th>WoodDeckSF</th>\n",
       "      <th>OpenPorchSF</th>\n",
       "      <th>EnclosedPorch</th>\n",
       "      <th>3SsnPorch</th>\n",
       "      <th>ScreenPorch</th>\n",
       "      <th>PoolArea</th>\n",
       "      <th>PoolQC</th>\n",
       "      <th>Fence</th>\n",
       "      <th>MiscFeature</th>\n",
       "      <th>MiscVal</th>\n",
       "      <th>MoSold</th>\n",
       "      <th>YrSold</th>\n",
       "      <th>SaleType</th>\n",
       "      <th>SaleCondition</th>\n",
       "      <th>SalePrice</th>\n",
       "    </tr>\n",
       "    <tr>\n",
       "      <th>Id</th>\n",
       "      <th></th>\n",
       "      <th></th>\n",
       "      <th></th>\n",
       "      <th></th>\n",
       "      <th></th>\n",
       "      <th></th>\n",
       "      <th></th>\n",
       "      <th></th>\n",
       "      <th></th>\n",
       "      <th></th>\n",
       "      <th></th>\n",
       "      <th></th>\n",
       "      <th></th>\n",
       "      <th></th>\n",
       "      <th></th>\n",
       "      <th></th>\n",
       "      <th></th>\n",
       "      <th></th>\n",
       "      <th></th>\n",
       "      <th></th>\n",
       "      <th></th>\n",
       "      <th></th>\n",
       "      <th></th>\n",
       "      <th></th>\n",
       "      <th></th>\n",
       "      <th></th>\n",
       "      <th></th>\n",
       "      <th></th>\n",
       "      <th></th>\n",
       "      <th></th>\n",
       "      <th></th>\n",
       "      <th></th>\n",
       "      <th></th>\n",
       "      <th></th>\n",
       "      <th></th>\n",
       "      <th></th>\n",
       "      <th></th>\n",
       "      <th></th>\n",
       "      <th></th>\n",
       "      <th></th>\n",
       "      <th></th>\n",
       "      <th></th>\n",
       "      <th></th>\n",
       "      <th></th>\n",
       "      <th></th>\n",
       "      <th></th>\n",
       "      <th></th>\n",
       "      <th></th>\n",
       "      <th></th>\n",
       "      <th></th>\n",
       "      <th></th>\n",
       "      <th></th>\n",
       "      <th></th>\n",
       "      <th></th>\n",
       "      <th></th>\n",
       "      <th></th>\n",
       "      <th></th>\n",
       "      <th></th>\n",
       "      <th></th>\n",
       "      <th></th>\n",
       "      <th></th>\n",
       "      <th></th>\n",
       "      <th></th>\n",
       "      <th></th>\n",
       "      <th></th>\n",
       "      <th></th>\n",
       "      <th></th>\n",
       "      <th></th>\n",
       "      <th></th>\n",
       "      <th></th>\n",
       "      <th></th>\n",
       "      <th></th>\n",
       "      <th></th>\n",
       "      <th></th>\n",
       "      <th></th>\n",
       "      <th></th>\n",
       "      <th></th>\n",
       "      <th></th>\n",
       "      <th></th>\n",
       "      <th></th>\n",
       "    </tr>\n",
       "  </thead>\n",
       "  <tbody>\n",
       "    <tr>\n",
       "      <th>1</th>\n",
       "      <td>60</td>\n",
       "      <td>RL</td>\n",
       "      <td>65.0</td>\n",
       "      <td>8450</td>\n",
       "      <td>Pave</td>\n",
       "      <td>NaN</td>\n",
       "      <td>Reg</td>\n",
       "      <td>Lvl</td>\n",
       "      <td>AllPub</td>\n",
       "      <td>Inside</td>\n",
       "      <td>Gtl</td>\n",
       "      <td>CollgCr</td>\n",
       "      <td>Norm</td>\n",
       "      <td>Norm</td>\n",
       "      <td>1Fam</td>\n",
       "      <td>2Story</td>\n",
       "      <td>7</td>\n",
       "      <td>5</td>\n",
       "      <td>2003</td>\n",
       "      <td>2003</td>\n",
       "      <td>Gable</td>\n",
       "      <td>CompShg</td>\n",
       "      <td>VinylSd</td>\n",
       "      <td>VinylSd</td>\n",
       "      <td>BrkFace</td>\n",
       "      <td>196.0</td>\n",
       "      <td>Gd</td>\n",
       "      <td>TA</td>\n",
       "      <td>PConc</td>\n",
       "      <td>Gd</td>\n",
       "      <td>TA</td>\n",
       "      <td>No</td>\n",
       "      <td>GLQ</td>\n",
       "      <td>706</td>\n",
       "      <td>Unf</td>\n",
       "      <td>0</td>\n",
       "      <td>150</td>\n",
       "      <td>856</td>\n",
       "      <td>GasA</td>\n",
       "      <td>Ex</td>\n",
       "      <td>Y</td>\n",
       "      <td>SBrkr</td>\n",
       "      <td>856</td>\n",
       "      <td>854</td>\n",
       "      <td>0</td>\n",
       "      <td>1710</td>\n",
       "      <td>1</td>\n",
       "      <td>0</td>\n",
       "      <td>2</td>\n",
       "      <td>1</td>\n",
       "      <td>3</td>\n",
       "      <td>1</td>\n",
       "      <td>Gd</td>\n",
       "      <td>8</td>\n",
       "      <td>Typ</td>\n",
       "      <td>0</td>\n",
       "      <td>NaN</td>\n",
       "      <td>Attchd</td>\n",
       "      <td>2003.0</td>\n",
       "      <td>RFn</td>\n",
       "      <td>2</td>\n",
       "      <td>548</td>\n",
       "      <td>TA</td>\n",
       "      <td>TA</td>\n",
       "      <td>Y</td>\n",
       "      <td>0</td>\n",
       "      <td>61</td>\n",
       "      <td>0</td>\n",
       "      <td>0</td>\n",
       "      <td>0</td>\n",
       "      <td>0</td>\n",
       "      <td>NaN</td>\n",
       "      <td>NaN</td>\n",
       "      <td>NaN</td>\n",
       "      <td>0</td>\n",
       "      <td>2</td>\n",
       "      <td>2008</td>\n",
       "      <td>WD</td>\n",
       "      <td>Normal</td>\n",
       "      <td>208500</td>\n",
       "    </tr>\n",
       "    <tr>\n",
       "      <th>2</th>\n",
       "      <td>20</td>\n",
       "      <td>RL</td>\n",
       "      <td>80.0</td>\n",
       "      <td>9600</td>\n",
       "      <td>Pave</td>\n",
       "      <td>NaN</td>\n",
       "      <td>Reg</td>\n",
       "      <td>Lvl</td>\n",
       "      <td>AllPub</td>\n",
       "      <td>FR2</td>\n",
       "      <td>Gtl</td>\n",
       "      <td>Veenker</td>\n",
       "      <td>Feedr</td>\n",
       "      <td>Norm</td>\n",
       "      <td>1Fam</td>\n",
       "      <td>1Story</td>\n",
       "      <td>6</td>\n",
       "      <td>8</td>\n",
       "      <td>1976</td>\n",
       "      <td>1976</td>\n",
       "      <td>Gable</td>\n",
       "      <td>CompShg</td>\n",
       "      <td>MetalSd</td>\n",
       "      <td>MetalSd</td>\n",
       "      <td>None</td>\n",
       "      <td>0.0</td>\n",
       "      <td>TA</td>\n",
       "      <td>TA</td>\n",
       "      <td>CBlock</td>\n",
       "      <td>Gd</td>\n",
       "      <td>TA</td>\n",
       "      <td>Gd</td>\n",
       "      <td>ALQ</td>\n",
       "      <td>978</td>\n",
       "      <td>Unf</td>\n",
       "      <td>0</td>\n",
       "      <td>284</td>\n",
       "      <td>1262</td>\n",
       "      <td>GasA</td>\n",
       "      <td>Ex</td>\n",
       "      <td>Y</td>\n",
       "      <td>SBrkr</td>\n",
       "      <td>1262</td>\n",
       "      <td>0</td>\n",
       "      <td>0</td>\n",
       "      <td>1262</td>\n",
       "      <td>0</td>\n",
       "      <td>1</td>\n",
       "      <td>2</td>\n",
       "      <td>0</td>\n",
       "      <td>3</td>\n",
       "      <td>1</td>\n",
       "      <td>TA</td>\n",
       "      <td>6</td>\n",
       "      <td>Typ</td>\n",
       "      <td>1</td>\n",
       "      <td>TA</td>\n",
       "      <td>Attchd</td>\n",
       "      <td>1976.0</td>\n",
       "      <td>RFn</td>\n",
       "      <td>2</td>\n",
       "      <td>460</td>\n",
       "      <td>TA</td>\n",
       "      <td>TA</td>\n",
       "      <td>Y</td>\n",
       "      <td>298</td>\n",
       "      <td>0</td>\n",
       "      <td>0</td>\n",
       "      <td>0</td>\n",
       "      <td>0</td>\n",
       "      <td>0</td>\n",
       "      <td>NaN</td>\n",
       "      <td>NaN</td>\n",
       "      <td>NaN</td>\n",
       "      <td>0</td>\n",
       "      <td>5</td>\n",
       "      <td>2007</td>\n",
       "      <td>WD</td>\n",
       "      <td>Normal</td>\n",
       "      <td>181500</td>\n",
       "    </tr>\n",
       "    <tr>\n",
       "      <th>3</th>\n",
       "      <td>60</td>\n",
       "      <td>RL</td>\n",
       "      <td>68.0</td>\n",
       "      <td>11250</td>\n",
       "      <td>Pave</td>\n",
       "      <td>NaN</td>\n",
       "      <td>IR1</td>\n",
       "      <td>Lvl</td>\n",
       "      <td>AllPub</td>\n",
       "      <td>Inside</td>\n",
       "      <td>Gtl</td>\n",
       "      <td>CollgCr</td>\n",
       "      <td>Norm</td>\n",
       "      <td>Norm</td>\n",
       "      <td>1Fam</td>\n",
       "      <td>2Story</td>\n",
       "      <td>7</td>\n",
       "      <td>5</td>\n",
       "      <td>2001</td>\n",
       "      <td>2002</td>\n",
       "      <td>Gable</td>\n",
       "      <td>CompShg</td>\n",
       "      <td>VinylSd</td>\n",
       "      <td>VinylSd</td>\n",
       "      <td>BrkFace</td>\n",
       "      <td>162.0</td>\n",
       "      <td>Gd</td>\n",
       "      <td>TA</td>\n",
       "      <td>PConc</td>\n",
       "      <td>Gd</td>\n",
       "      <td>TA</td>\n",
       "      <td>Mn</td>\n",
       "      <td>GLQ</td>\n",
       "      <td>486</td>\n",
       "      <td>Unf</td>\n",
       "      <td>0</td>\n",
       "      <td>434</td>\n",
       "      <td>920</td>\n",
       "      <td>GasA</td>\n",
       "      <td>Ex</td>\n",
       "      <td>Y</td>\n",
       "      <td>SBrkr</td>\n",
       "      <td>920</td>\n",
       "      <td>866</td>\n",
       "      <td>0</td>\n",
       "      <td>1786</td>\n",
       "      <td>1</td>\n",
       "      <td>0</td>\n",
       "      <td>2</td>\n",
       "      <td>1</td>\n",
       "      <td>3</td>\n",
       "      <td>1</td>\n",
       "      <td>Gd</td>\n",
       "      <td>6</td>\n",
       "      <td>Typ</td>\n",
       "      <td>1</td>\n",
       "      <td>TA</td>\n",
       "      <td>Attchd</td>\n",
       "      <td>2001.0</td>\n",
       "      <td>RFn</td>\n",
       "      <td>2</td>\n",
       "      <td>608</td>\n",
       "      <td>TA</td>\n",
       "      <td>TA</td>\n",
       "      <td>Y</td>\n",
       "      <td>0</td>\n",
       "      <td>42</td>\n",
       "      <td>0</td>\n",
       "      <td>0</td>\n",
       "      <td>0</td>\n",
       "      <td>0</td>\n",
       "      <td>NaN</td>\n",
       "      <td>NaN</td>\n",
       "      <td>NaN</td>\n",
       "      <td>0</td>\n",
       "      <td>9</td>\n",
       "      <td>2008</td>\n",
       "      <td>WD</td>\n",
       "      <td>Normal</td>\n",
       "      <td>223500</td>\n",
       "    </tr>\n",
       "    <tr>\n",
       "      <th>4</th>\n",
       "      <td>70</td>\n",
       "      <td>RL</td>\n",
       "      <td>60.0</td>\n",
       "      <td>9550</td>\n",
       "      <td>Pave</td>\n",
       "      <td>NaN</td>\n",
       "      <td>IR1</td>\n",
       "      <td>Lvl</td>\n",
       "      <td>AllPub</td>\n",
       "      <td>Corner</td>\n",
       "      <td>Gtl</td>\n",
       "      <td>Crawfor</td>\n",
       "      <td>Norm</td>\n",
       "      <td>Norm</td>\n",
       "      <td>1Fam</td>\n",
       "      <td>2Story</td>\n",
       "      <td>7</td>\n",
       "      <td>5</td>\n",
       "      <td>1915</td>\n",
       "      <td>1970</td>\n",
       "      <td>Gable</td>\n",
       "      <td>CompShg</td>\n",
       "      <td>Wd Sdng</td>\n",
       "      <td>Wd Shng</td>\n",
       "      <td>None</td>\n",
       "      <td>0.0</td>\n",
       "      <td>TA</td>\n",
       "      <td>TA</td>\n",
       "      <td>BrkTil</td>\n",
       "      <td>TA</td>\n",
       "      <td>Gd</td>\n",
       "      <td>No</td>\n",
       "      <td>ALQ</td>\n",
       "      <td>216</td>\n",
       "      <td>Unf</td>\n",
       "      <td>0</td>\n",
       "      <td>540</td>\n",
       "      <td>756</td>\n",
       "      <td>GasA</td>\n",
       "      <td>Gd</td>\n",
       "      <td>Y</td>\n",
       "      <td>SBrkr</td>\n",
       "      <td>961</td>\n",
       "      <td>756</td>\n",
       "      <td>0</td>\n",
       "      <td>1717</td>\n",
       "      <td>1</td>\n",
       "      <td>0</td>\n",
       "      <td>1</td>\n",
       "      <td>0</td>\n",
       "      <td>3</td>\n",
       "      <td>1</td>\n",
       "      <td>Gd</td>\n",
       "      <td>7</td>\n",
       "      <td>Typ</td>\n",
       "      <td>1</td>\n",
       "      <td>Gd</td>\n",
       "      <td>Detchd</td>\n",
       "      <td>1998.0</td>\n",
       "      <td>Unf</td>\n",
       "      <td>3</td>\n",
       "      <td>642</td>\n",
       "      <td>TA</td>\n",
       "      <td>TA</td>\n",
       "      <td>Y</td>\n",
       "      <td>0</td>\n",
       "      <td>35</td>\n",
       "      <td>272</td>\n",
       "      <td>0</td>\n",
       "      <td>0</td>\n",
       "      <td>0</td>\n",
       "      <td>NaN</td>\n",
       "      <td>NaN</td>\n",
       "      <td>NaN</td>\n",
       "      <td>0</td>\n",
       "      <td>2</td>\n",
       "      <td>2006</td>\n",
       "      <td>WD</td>\n",
       "      <td>Abnorml</td>\n",
       "      <td>140000</td>\n",
       "    </tr>\n",
       "    <tr>\n",
       "      <th>5</th>\n",
       "      <td>60</td>\n",
       "      <td>RL</td>\n",
       "      <td>84.0</td>\n",
       "      <td>14260</td>\n",
       "      <td>Pave</td>\n",
       "      <td>NaN</td>\n",
       "      <td>IR1</td>\n",
       "      <td>Lvl</td>\n",
       "      <td>AllPub</td>\n",
       "      <td>FR2</td>\n",
       "      <td>Gtl</td>\n",
       "      <td>NoRidge</td>\n",
       "      <td>Norm</td>\n",
       "      <td>Norm</td>\n",
       "      <td>1Fam</td>\n",
       "      <td>2Story</td>\n",
       "      <td>8</td>\n",
       "      <td>5</td>\n",
       "      <td>2000</td>\n",
       "      <td>2000</td>\n",
       "      <td>Gable</td>\n",
       "      <td>CompShg</td>\n",
       "      <td>VinylSd</td>\n",
       "      <td>VinylSd</td>\n",
       "      <td>BrkFace</td>\n",
       "      <td>350.0</td>\n",
       "      <td>Gd</td>\n",
       "      <td>TA</td>\n",
       "      <td>PConc</td>\n",
       "      <td>Gd</td>\n",
       "      <td>TA</td>\n",
       "      <td>Av</td>\n",
       "      <td>GLQ</td>\n",
       "      <td>655</td>\n",
       "      <td>Unf</td>\n",
       "      <td>0</td>\n",
       "      <td>490</td>\n",
       "      <td>1145</td>\n",
       "      <td>GasA</td>\n",
       "      <td>Ex</td>\n",
       "      <td>Y</td>\n",
       "      <td>SBrkr</td>\n",
       "      <td>1145</td>\n",
       "      <td>1053</td>\n",
       "      <td>0</td>\n",
       "      <td>2198</td>\n",
       "      <td>1</td>\n",
       "      <td>0</td>\n",
       "      <td>2</td>\n",
       "      <td>1</td>\n",
       "      <td>4</td>\n",
       "      <td>1</td>\n",
       "      <td>Gd</td>\n",
       "      <td>9</td>\n",
       "      <td>Typ</td>\n",
       "      <td>1</td>\n",
       "      <td>TA</td>\n",
       "      <td>Attchd</td>\n",
       "      <td>2000.0</td>\n",
       "      <td>RFn</td>\n",
       "      <td>3</td>\n",
       "      <td>836</td>\n",
       "      <td>TA</td>\n",
       "      <td>TA</td>\n",
       "      <td>Y</td>\n",
       "      <td>192</td>\n",
       "      <td>84</td>\n",
       "      <td>0</td>\n",
       "      <td>0</td>\n",
       "      <td>0</td>\n",
       "      <td>0</td>\n",
       "      <td>NaN</td>\n",
       "      <td>NaN</td>\n",
       "      <td>NaN</td>\n",
       "      <td>0</td>\n",
       "      <td>12</td>\n",
       "      <td>2008</td>\n",
       "      <td>WD</td>\n",
       "      <td>Normal</td>\n",
       "      <td>250000</td>\n",
       "    </tr>\n",
       "  </tbody>\n",
       "</table>\n",
       "</div>"
      ],
      "text/plain": [
       "    MSSubClass MSZoning  LotFrontage  LotArea Street Alley LotShape  \\\n",
       "Id                                                                    \n",
       "1           60       RL         65.0     8450   Pave   NaN      Reg   \n",
       "2           20       RL         80.0     9600   Pave   NaN      Reg   \n",
       "3           60       RL         68.0    11250   Pave   NaN      IR1   \n",
       "4           70       RL         60.0     9550   Pave   NaN      IR1   \n",
       "5           60       RL         84.0    14260   Pave   NaN      IR1   \n",
       "\n",
       "   LandContour Utilities LotConfig LandSlope Neighborhood Condition1  \\\n",
       "Id                                                                     \n",
       "1          Lvl    AllPub    Inside       Gtl      CollgCr       Norm   \n",
       "2          Lvl    AllPub       FR2       Gtl      Veenker      Feedr   \n",
       "3          Lvl    AllPub    Inside       Gtl      CollgCr       Norm   \n",
       "4          Lvl    AllPub    Corner       Gtl      Crawfor       Norm   \n",
       "5          Lvl    AllPub       FR2       Gtl      NoRidge       Norm   \n",
       "\n",
       "   Condition2 BldgType HouseStyle  OverallQual  OverallCond  YearBuilt  \\\n",
       "Id                                                                       \n",
       "1        Norm     1Fam     2Story            7            5       2003   \n",
       "2        Norm     1Fam     1Story            6            8       1976   \n",
       "3        Norm     1Fam     2Story            7            5       2001   \n",
       "4        Norm     1Fam     2Story            7            5       1915   \n",
       "5        Norm     1Fam     2Story            8            5       2000   \n",
       "\n",
       "    YearRemodAdd RoofStyle RoofMatl Exterior1st Exterior2nd MasVnrType  \\\n",
       "Id                                                                       \n",
       "1           2003     Gable  CompShg     VinylSd     VinylSd    BrkFace   \n",
       "2           1976     Gable  CompShg     MetalSd     MetalSd       None   \n",
       "3           2002     Gable  CompShg     VinylSd     VinylSd    BrkFace   \n",
       "4           1970     Gable  CompShg     Wd Sdng     Wd Shng       None   \n",
       "5           2000     Gable  CompShg     VinylSd     VinylSd    BrkFace   \n",
       "\n",
       "    MasVnrArea ExterQual ExterCond Foundation BsmtQual BsmtCond BsmtExposure  \\\n",
       "Id                                                                             \n",
       "1        196.0        Gd        TA      PConc       Gd       TA           No   \n",
       "2          0.0        TA        TA     CBlock       Gd       TA           Gd   \n",
       "3        162.0        Gd        TA      PConc       Gd       TA           Mn   \n",
       "4          0.0        TA        TA     BrkTil       TA       Gd           No   \n",
       "5        350.0        Gd        TA      PConc       Gd       TA           Av   \n",
       "\n",
       "   BsmtFinType1  BsmtFinSF1 BsmtFinType2  BsmtFinSF2  BsmtUnfSF  TotalBsmtSF  \\\n",
       "Id                                                                             \n",
       "1           GLQ         706          Unf           0        150          856   \n",
       "2           ALQ         978          Unf           0        284         1262   \n",
       "3           GLQ         486          Unf           0        434          920   \n",
       "4           ALQ         216          Unf           0        540          756   \n",
       "5           GLQ         655          Unf           0        490         1145   \n",
       "\n",
       "   Heating HeatingQC CentralAir Electrical  1stFlrSF  2ndFlrSF  LowQualFinSF  \\\n",
       "Id                                                                             \n",
       "1     GasA        Ex          Y      SBrkr       856       854             0   \n",
       "2     GasA        Ex          Y      SBrkr      1262         0             0   \n",
       "3     GasA        Ex          Y      SBrkr       920       866             0   \n",
       "4     GasA        Gd          Y      SBrkr       961       756             0   \n",
       "5     GasA        Ex          Y      SBrkr      1145      1053             0   \n",
       "\n",
       "    GrLivArea  BsmtFullBath  BsmtHalfBath  FullBath  HalfBath  BedroomAbvGr  \\\n",
       "Id                                                                            \n",
       "1        1710             1             0         2         1             3   \n",
       "2        1262             0             1         2         0             3   \n",
       "3        1786             1             0         2         1             3   \n",
       "4        1717             1             0         1         0             3   \n",
       "5        2198             1             0         2         1             4   \n",
       "\n",
       "    KitchenAbvGr KitchenQual  TotRmsAbvGrd Functional  Fireplaces FireplaceQu  \\\n",
       "Id                                                                              \n",
       "1              1          Gd             8        Typ           0         NaN   \n",
       "2              1          TA             6        Typ           1          TA   \n",
       "3              1          Gd             6        Typ           1          TA   \n",
       "4              1          Gd             7        Typ           1          Gd   \n",
       "5              1          Gd             9        Typ           1          TA   \n",
       "\n",
       "   GarageType  GarageYrBlt GarageFinish  GarageCars  GarageArea GarageQual  \\\n",
       "Id                                                                           \n",
       "1      Attchd       2003.0          RFn           2         548         TA   \n",
       "2      Attchd       1976.0          RFn           2         460         TA   \n",
       "3      Attchd       2001.0          RFn           2         608         TA   \n",
       "4      Detchd       1998.0          Unf           3         642         TA   \n",
       "5      Attchd       2000.0          RFn           3         836         TA   \n",
       "\n",
       "   GarageCond PavedDrive  WoodDeckSF  OpenPorchSF  EnclosedPorch  3SsnPorch  \\\n",
       "Id                                                                            \n",
       "1          TA          Y           0           61              0          0   \n",
       "2          TA          Y         298            0              0          0   \n",
       "3          TA          Y           0           42              0          0   \n",
       "4          TA          Y           0           35            272          0   \n",
       "5          TA          Y         192           84              0          0   \n",
       "\n",
       "    ScreenPorch  PoolArea PoolQC Fence MiscFeature  MiscVal  MoSold  YrSold  \\\n",
       "Id                                                                            \n",
       "1             0         0    NaN   NaN         NaN        0       2    2008   \n",
       "2             0         0    NaN   NaN         NaN        0       5    2007   \n",
       "3             0         0    NaN   NaN         NaN        0       9    2008   \n",
       "4             0         0    NaN   NaN         NaN        0       2    2006   \n",
       "5             0         0    NaN   NaN         NaN        0      12    2008   \n",
       "\n",
       "   SaleType SaleCondition  SalePrice  \n",
       "Id                                    \n",
       "1        WD        Normal     208500  \n",
       "2        WD        Normal     181500  \n",
       "3        WD        Normal     223500  \n",
       "4        WD       Abnorml     140000  \n",
       "5        WD        Normal     250000  "
      ]
     },
     "execution_count": 2,
     "metadata": {},
     "output_type": "execute_result"
    }
   ],
   "source": [
    "pd.set_option('display.max_columns', None)\n",
    "pd.set_option('display.max_rows', None)\n",
    "test = pd.read_csv('../input/house-prices-advanced-regression-techniques/test.csv', index_col='Id')\n",
    "data = pd.read_csv('../input/house-prices-advanced-regression-techniques/train.csv', index_col='Id')\n",
    "data.head()"
   ]
  },
  {
   "cell_type": "markdown",
   "id": "e2a2bd74",
   "metadata": {
    "papermill": {
     "duration": 0.049489,
     "end_time": "2022-06-13T20:34:29.851135",
     "exception": false,
     "start_time": "2022-06-13T20:34:29.801646",
     "status": "completed"
    },
    "tags": []
   },
   "source": [
    "SalePrice is our target varieble"
   ]
  },
  {
   "cell_type": "markdown",
   "id": "8233c52c",
   "metadata": {
    "papermill": {
     "duration": 0.048822,
     "end_time": "2022-06-13T20:34:29.948775",
     "exception": false,
     "start_time": "2022-06-13T20:34:29.899953",
     "status": "completed"
    },
    "tags": []
   },
   "source": [
    "Let's look at our correlation"
   ]
  },
  {
   "cell_type": "code",
   "execution_count": 3,
   "id": "84964077",
   "metadata": {
    "execution": {
     "iopub.execute_input": "2022-06-13T20:34:30.051555Z",
     "iopub.status.busy": "2022-06-13T20:34:30.050860Z",
     "iopub.status.idle": "2022-06-13T20:34:31.179228Z",
     "shell.execute_reply": "2022-06-13T20:34:31.179730Z",
     "shell.execute_reply.started": "2022-06-13T20:33:27.770618Z"
    },
    "papermill": {
     "duration": 1.182342,
     "end_time": "2022-06-13T20:34:31.179900",
     "exception": false,
     "start_time": "2022-06-13T20:34:29.997558",
     "status": "completed"
    },
    "tags": []
   },
   "outputs": [
    {
     "data": {
      "image/png": "[encoded data removed]",
      "text/plain": [
       "<Figure size 2880x1080 with 2 Axes>"
      ]
     },
     "metadata": {
      "needs_background": "light"
     },
     "output_type": "display_data"
    }
   ],
   "source": [
    "corrmat = data.corr() #correlation for all values\n",
    "f, ax = plt.subplots(figsize=(40, 15))\n",
    "sns.heatmap(corrmat, vmax=.8, square=True);"
   ]
  },
  {
   "cell_type": "markdown",
   "id": "a909b7d5",
   "metadata": {
    "papermill": {
     "duration": 0.050344,
     "end_time": "2022-06-13T20:34:31.280602",
     "exception": false,
     "start_time": "2022-06-13T20:34:31.230258",
     "status": "completed"
    },
    "tags": []
   },
   "source": [
    "As we can see that (TotalBsmtSF and 1stFirSf), (GarageYrBlt and YearBuilt) and also (GarageCars and GarageArea) are strongly correlated, so we can use only one column of the pairs for our analysis\n",
    "About SalePrice it is strongly correlated with OverallQual, GrLivArea, TotalBsmtSF and GarageCars\n",
    "But let's look on our the strrongest correlations for our target variable"
   ]
  },
  {
   "cell_type": "code",
   "execution_count": 4,
   "id": "52c8f30d",
   "metadata": {
    "execution": {
     "iopub.execute_input": "2022-06-13T20:34:31.387051Z",
     "iopub.status.busy": "2022-06-13T20:34:31.386352Z",
     "iopub.status.idle": "2022-06-13T20:34:32.102366Z",
     "shell.execute_reply": "2022-06-13T20:34:32.102896Z",
     "shell.execute_reply.started": "2022-06-13T20:33:28.851275Z"
    },
    "papermill": {
     "duration": 0.771585,
     "end_time": "2022-06-13T20:34:32.103115",
     "exception": false,
     "start_time": "2022-06-13T20:34:31.331530",
     "status": "completed"
    },
    "tags": []
   },
   "outputs": [
    {
     "data": {
      "image/png": "[encoded data removed]",
      "text/plain": [
       "<Figure size 2880x648 with 2 Axes>"
      ]
     },
     "metadata": {
      "needs_background": "light"
     },
     "output_type": "display_data"
    }
   ],
   "source": [
    "#saleprice correlation matrix\n",
    "k = 10 #number of variables for heatmap\n",
    "cols = corrmat.nlargest(k, 'SalePrice')['SalePrice'].index\n",
    "f, ax = plt.subplots(figsize=(40, 9))\n",
    "cm = np.corrcoef(data[cols].values.T)\n",
    "hm = sns.heatmap(cm, cbar=True, annot=True, square=True, fmt='.2f', annot_kws={'size': 10}, yticklabels=cols.values, xticklabels=cols.values)\n",
    "plt.show()"
   ]
  },
  {
   "cell_type": "markdown",
   "id": "84c4e9df",
   "metadata": {
    "papermill": {
     "duration": 0.053614,
     "end_time": "2022-06-13T20:34:32.210431",
     "exception": false,
     "start_time": "2022-06-13T20:34:32.156817",
     "status": "completed"
    },
    "tags": []
   },
   "source": [
    "So let's make some conclusions. OveralQual and GrLivArea are the most correlated with SalePrice\n",
    "After this we see GarageCars and GargeArea, but they have also strong correlation with each other, so I offer use only GarageCars\n",
    "The same situation is for TotalBsmtSF and 1stFirSf. We will use TotalBsmtSF.\n",
    "TotRmsAbvGrd has strong corr with GrLivArea, so we will ignore this variable.\n",
    "And we can use also FullBath and YearBuilt"
   ]
  },
  {
   "cell_type": "markdown",
   "id": "494b90ae",
   "metadata": {
    "papermill": {
     "duration": 0.054111,
     "end_time": "2022-06-13T20:34:32.318795",
     "exception": false,
     "start_time": "2022-06-13T20:34:32.264684",
     "status": "completed"
    },
    "tags": []
   },
   "source": [
    "Missing values"
   ]
  },
  {
   "cell_type": "markdown",
   "id": "faf99fa7",
   "metadata": {
    "papermill": {
     "duration": 0.053608,
     "end_time": "2022-06-13T20:34:32.426281",
     "exception": false,
     "start_time": "2022-06-13T20:34:32.372673",
     "status": "completed"
    },
    "tags": []
   },
   "source": [
    "Firstly we need rewrite our text-values in numeric"
   ]
  },
  {
   "cell_type": "markdown",
   "id": "ea9792f4",
   "metadata": {
    "papermill": {
     "duration": 0.054653,
     "end_time": "2022-06-13T20:34:32.535485",
     "exception": false,
     "start_time": "2022-06-13T20:34:32.480832",
     "status": "completed"
    },
    "tags": []
   },
   "source": []
  },
  {
   "cell_type": "code",
   "execution_count": 5,
   "id": "1779b061",
   "metadata": {
    "execution": {
     "iopub.execute_input": "2022-06-13T20:34:32.653241Z",
     "iopub.status.busy": "2022-06-13T20:34:32.652211Z",
     "iopub.status.idle": "2022-06-13T20:34:32.669920Z",
     "shell.execute_reply": "2022-06-13T20:34:32.670497Z",
     "shell.execute_reply.started": "2022-06-13T20:33:29.550679Z"
    },
    "papermill": {
     "duration": 0.081361,
     "end_time": "2022-06-13T20:34:32.670675",
     "exception": false,
     "start_time": "2022-06-13T20:34:32.589314",
     "status": "completed"
    },
    "tags": []
   },
   "outputs": [],
   "source": [
    "all_data = pd.concat((data.loc[:,'MSSubClass':'SaleCondition'],\n",
    "                      test.loc[:,'MSSubClass':'SaleCondition']))"
   ]
  },
  {
   "cell_type": "code",
   "execution_count": 6,
   "id": "c1b8d2f2",
   "metadata": {
    "execution": {
     "iopub.execute_input": "2022-06-13T20:34:32.783164Z",
     "iopub.status.busy": "2022-06-13T20:34:32.782213Z",
     "iopub.status.idle": "2022-06-13T20:34:32.834719Z",
     "shell.execute_reply": "2022-06-13T20:34:32.835243Z",
     "shell.execute_reply.started": "2022-06-13T20:33:29.572624Z"
    },
    "papermill": {
     "duration": 0.111018,
     "end_time": "2022-06-13T20:34:32.835423",
     "exception": false,
     "start_time": "2022-06-13T20:34:32.724405",
     "status": "completed"
    },
    "tags": []
   },
   "outputs": [
    {
     "data": {
      "text/html": [
       "<div>\n",
       "<style scoped>\n",
       "    .dataframe tbody tr th:only-of-type {\n",
       "        vertical-align: middle;\n",
       "    }\n",
       "\n",
       "    .dataframe tbody tr th {\n",
       "        vertical-align: top;\n",
       "    }\n",
       "\n",
       "    .dataframe thead th {\n",
       "        text-align: right;\n",
       "    }\n",
       "</style>\n",
       "<table border=\"1\" class=\"dataframe\">\n",
       "  <thead>\n",
       "    <tr style=\"text-align: right;\">\n",
       "      <th></th>\n",
       "      <th>mis values</th>\n",
       "      <th>procent of mis values</th>\n",
       "    </tr>\n",
       "  </thead>\n",
       "  <tbody>\n",
       "    <tr>\n",
       "      <th>MSZoning</th>\n",
       "      <td>4</td>\n",
       "      <td>0.273973</td>\n",
       "    </tr>\n",
       "    <tr>\n",
       "      <th>LotFrontage</th>\n",
       "      <td>486</td>\n",
       "      <td>33.287671</td>\n",
       "    </tr>\n",
       "    <tr>\n",
       "      <th>Alley</th>\n",
       "      <td>2721</td>\n",
       "      <td>186.369863</td>\n",
       "    </tr>\n",
       "    <tr>\n",
       "      <th>Utilities</th>\n",
       "      <td>2</td>\n",
       "      <td>0.136986</td>\n",
       "    </tr>\n",
       "    <tr>\n",
       "      <th>Exterior1st</th>\n",
       "      <td>1</td>\n",
       "      <td>0.068493</td>\n",
       "    </tr>\n",
       "    <tr>\n",
       "      <th>Exterior2nd</th>\n",
       "      <td>1</td>\n",
       "      <td>0.068493</td>\n",
       "    </tr>\n",
       "    <tr>\n",
       "      <th>MasVnrType</th>\n",
       "      <td>24</td>\n",
       "      <td>1.643836</td>\n",
       "    </tr>\n",
       "    <tr>\n",
       "      <th>MasVnrArea</th>\n",
       "      <td>23</td>\n",
       "      <td>1.575342</td>\n",
       "    </tr>\n",
       "    <tr>\n",
       "      <th>BsmtQual</th>\n",
       "      <td>81</td>\n",
       "      <td>5.547945</td>\n",
       "    </tr>\n",
       "    <tr>\n",
       "      <th>BsmtCond</th>\n",
       "      <td>82</td>\n",
       "      <td>5.616438</td>\n",
       "    </tr>\n",
       "    <tr>\n",
       "      <th>BsmtExposure</th>\n",
       "      <td>82</td>\n",
       "      <td>5.616438</td>\n",
       "    </tr>\n",
       "    <tr>\n",
       "      <th>BsmtFinType1</th>\n",
       "      <td>79</td>\n",
       "      <td>5.410959</td>\n",
       "    </tr>\n",
       "    <tr>\n",
       "      <th>BsmtFinSF1</th>\n",
       "      <td>1</td>\n",
       "      <td>0.068493</td>\n",
       "    </tr>\n",
       "    <tr>\n",
       "      <th>BsmtFinType2</th>\n",
       "      <td>80</td>\n",
       "      <td>5.479452</td>\n",
       "    </tr>\n",
       "    <tr>\n",
       "      <th>BsmtFinSF2</th>\n",
       "      <td>1</td>\n",
       "      <td>0.068493</td>\n",
       "    </tr>\n",
       "    <tr>\n",
       "      <th>BsmtUnfSF</th>\n",
       "      <td>1</td>\n",
       "      <td>0.068493</td>\n",
       "    </tr>\n",
       "    <tr>\n",
       "      <th>TotalBsmtSF</th>\n",
       "      <td>1</td>\n",
       "      <td>0.068493</td>\n",
       "    </tr>\n",
       "    <tr>\n",
       "      <th>Electrical</th>\n",
       "      <td>1</td>\n",
       "      <td>0.068493</td>\n",
       "    </tr>\n",
       "    <tr>\n",
       "      <th>BsmtFullBath</th>\n",
       "      <td>2</td>\n",
       "      <td>0.136986</td>\n",
       "    </tr>\n",
       "    <tr>\n",
       "      <th>BsmtHalfBath</th>\n",
       "      <td>2</td>\n",
       "      <td>0.136986</td>\n",
       "    </tr>\n",
       "    <tr>\n",
       "      <th>KitchenQual</th>\n",
       "      <td>1</td>\n",
       "      <td>0.068493</td>\n",
       "    </tr>\n",
       "    <tr>\n",
       "      <th>Functional</th>\n",
       "      <td>2</td>\n",
       "      <td>0.136986</td>\n",
       "    </tr>\n",
       "    <tr>\n",
       "      <th>FireplaceQu</th>\n",
       "      <td>1420</td>\n",
       "      <td>97.260274</td>\n",
       "    </tr>\n",
       "    <tr>\n",
       "      <th>GarageType</th>\n",
       "      <td>157</td>\n",
       "      <td>10.753425</td>\n",
       "    </tr>\n",
       "    <tr>\n",
       "      <th>GarageYrBlt</th>\n",
       "      <td>159</td>\n",
       "      <td>10.890411</td>\n",
       "    </tr>\n",
       "    <tr>\n",
       "      <th>GarageFinish</th>\n",
       "      <td>159</td>\n",
       "      <td>10.890411</td>\n",
       "    </tr>\n",
       "    <tr>\n",
       "      <th>GarageCars</th>\n",
       "      <td>1</td>\n",
       "      <td>0.068493</td>\n",
       "    </tr>\n",
       "    <tr>\n",
       "      <th>GarageArea</th>\n",
       "      <td>1</td>\n",
       "      <td>0.068493</td>\n",
       "    </tr>\n",
       "    <tr>\n",
       "      <th>GarageQual</th>\n",
       "      <td>159</td>\n",
       "      <td>10.890411</td>\n",
       "    </tr>\n",
       "    <tr>\n",
       "      <th>GarageCond</th>\n",
       "      <td>159</td>\n",
       "      <td>10.890411</td>\n",
       "    </tr>\n",
       "    <tr>\n",
       "      <th>PoolQC</th>\n",
       "      <td>2909</td>\n",
       "      <td>199.246575</td>\n",
       "    </tr>\n",
       "    <tr>\n",
       "      <th>Fence</th>\n",
       "      <td>2348</td>\n",
       "      <td>160.821918</td>\n",
       "    </tr>\n",
       "    <tr>\n",
       "      <th>MiscFeature</th>\n",
       "      <td>2814</td>\n",
       "      <td>192.739726</td>\n",
       "    </tr>\n",
       "    <tr>\n",
       "      <th>SaleType</th>\n",
       "      <td>1</td>\n",
       "      <td>0.068493</td>\n",
       "    </tr>\n",
       "  </tbody>\n",
       "</table>\n",
       "</div>"
      ],
      "text/plain": [
       "              mis values  procent of mis values\n",
       "MSZoning               4               0.273973\n",
       "LotFrontage          486              33.287671\n",
       "Alley               2721             186.369863\n",
       "Utilities              2               0.136986\n",
       "Exterior1st            1               0.068493\n",
       "Exterior2nd            1               0.068493\n",
       "MasVnrType            24               1.643836\n",
       "MasVnrArea            23               1.575342\n",
       "BsmtQual              81               5.547945\n",
       "BsmtCond              82               5.616438\n",
       "BsmtExposure          82               5.616438\n",
       "BsmtFinType1          79               5.410959\n",
       "BsmtFinSF1             1               0.068493\n",
       "BsmtFinType2          80               5.479452\n",
       "BsmtFinSF2             1               0.068493\n",
       "BsmtUnfSF              1               0.068493\n",
       "TotalBsmtSF            1               0.068493\n",
       "Electrical             1               0.068493\n",
       "BsmtFullBath           2               0.136986\n",
       "BsmtHalfBath           2               0.136986\n",
       "KitchenQual            1               0.068493\n",
       "Functional             2               0.136986\n",
       "FireplaceQu         1420              97.260274\n",
       "GarageType           157              10.753425\n",
       "GarageYrBlt          159              10.890411\n",
       "GarageFinish         159              10.890411\n",
       "GarageCars             1               0.068493\n",
       "GarageArea             1               0.068493\n",
       "GarageQual           159              10.890411\n",
       "GarageCond           159              10.890411\n",
       "PoolQC              2909             199.246575\n",
       "Fence               2348             160.821918\n",
       "MiscFeature         2814             192.739726\n",
       "SaleType               1               0.068493"
      ]
     },
     "execution_count": 6,
     "metadata": {},
     "output_type": "execute_result"
    }
   ],
   "source": [
    "mis_val = pd.DataFrame({\"mis values\": all_data.isnull().sum(),\"procent of mis values\": 100*all_data.isnull().sum()/len(data)})\n",
    "mis_val[mis_val['mis values']>0]"
   ]
  },
  {
   "cell_type": "markdown",
   "id": "4b386f52",
   "metadata": {
    "papermill": {
     "duration": 0.054224,
     "end_time": "2022-06-13T20:34:32.946335",
     "exception": false,
     "start_time": "2022-06-13T20:34:32.892111",
     "status": "completed"
    },
    "tags": []
   },
   "source": [
    "If more than 15% of data is missing values we need to delete this column"
   ]
  },
  {
   "cell_type": "code",
   "execution_count": 7,
   "id": "518bb8fa",
   "metadata": {
    "execution": {
     "iopub.execute_input": "2022-06-13T20:34:33.064520Z",
     "iopub.status.busy": "2022-06-13T20:34:33.063531Z",
     "iopub.status.idle": "2022-06-13T20:34:33.111828Z",
     "shell.execute_reply": "2022-06-13T20:34:33.112335Z",
     "shell.execute_reply.started": "2022-06-13T20:33:29.631908Z"
    },
    "papermill": {
     "duration": 0.108283,
     "end_time": "2022-06-13T20:34:33.112512",
     "exception": false,
     "start_time": "2022-06-13T20:34:33.004229",
     "status": "completed"
    },
    "tags": []
   },
   "outputs": [
    {
     "data": {
      "text/html": [
       "<div>\n",
       "<style scoped>\n",
       "    .dataframe tbody tr th:only-of-type {\n",
       "        vertical-align: middle;\n",
       "    }\n",
       "\n",
       "    .dataframe tbody tr th {\n",
       "        vertical-align: top;\n",
       "    }\n",
       "\n",
       "    .dataframe thead th {\n",
       "        text-align: right;\n",
       "    }\n",
       "</style>\n",
       "<table border=\"1\" class=\"dataframe\">\n",
       "  <thead>\n",
       "    <tr style=\"text-align: right;\">\n",
       "      <th></th>\n",
       "      <th>mis values</th>\n",
       "      <th>procent of mis values</th>\n",
       "    </tr>\n",
       "  </thead>\n",
       "  <tbody>\n",
       "    <tr>\n",
       "      <th>MSZoning</th>\n",
       "      <td>4</td>\n",
       "      <td>0.137033</td>\n",
       "    </tr>\n",
       "    <tr>\n",
       "      <th>Utilities</th>\n",
       "      <td>2</td>\n",
       "      <td>0.068517</td>\n",
       "    </tr>\n",
       "    <tr>\n",
       "      <th>Exterior1st</th>\n",
       "      <td>1</td>\n",
       "      <td>0.034258</td>\n",
       "    </tr>\n",
       "    <tr>\n",
       "      <th>Exterior2nd</th>\n",
       "      <td>1</td>\n",
       "      <td>0.034258</td>\n",
       "    </tr>\n",
       "    <tr>\n",
       "      <th>MasVnrType</th>\n",
       "      <td>24</td>\n",
       "      <td>0.822199</td>\n",
       "    </tr>\n",
       "    <tr>\n",
       "      <th>MasVnrArea</th>\n",
       "      <td>23</td>\n",
       "      <td>0.787941</td>\n",
       "    </tr>\n",
       "    <tr>\n",
       "      <th>BsmtQual</th>\n",
       "      <td>81</td>\n",
       "      <td>2.774923</td>\n",
       "    </tr>\n",
       "    <tr>\n",
       "      <th>BsmtCond</th>\n",
       "      <td>82</td>\n",
       "      <td>2.809181</td>\n",
       "    </tr>\n",
       "    <tr>\n",
       "      <th>BsmtExposure</th>\n",
       "      <td>82</td>\n",
       "      <td>2.809181</td>\n",
       "    </tr>\n",
       "    <tr>\n",
       "      <th>BsmtFinType1</th>\n",
       "      <td>79</td>\n",
       "      <td>2.706406</td>\n",
       "    </tr>\n",
       "    <tr>\n",
       "      <th>BsmtFinSF1</th>\n",
       "      <td>1</td>\n",
       "      <td>0.034258</td>\n",
       "    </tr>\n",
       "    <tr>\n",
       "      <th>BsmtFinType2</th>\n",
       "      <td>80</td>\n",
       "      <td>2.740665</td>\n",
       "    </tr>\n",
       "    <tr>\n",
       "      <th>BsmtFinSF2</th>\n",
       "      <td>1</td>\n",
       "      <td>0.034258</td>\n",
       "    </tr>\n",
       "    <tr>\n",
       "      <th>BsmtUnfSF</th>\n",
       "      <td>1</td>\n",
       "      <td>0.034258</td>\n",
       "    </tr>\n",
       "    <tr>\n",
       "      <th>TotalBsmtSF</th>\n",
       "      <td>1</td>\n",
       "      <td>0.034258</td>\n",
       "    </tr>\n",
       "    <tr>\n",
       "      <th>Electrical</th>\n",
       "      <td>1</td>\n",
       "      <td>0.034258</td>\n",
       "    </tr>\n",
       "    <tr>\n",
       "      <th>BsmtFullBath</th>\n",
       "      <td>2</td>\n",
       "      <td>0.068517</td>\n",
       "    </tr>\n",
       "    <tr>\n",
       "      <th>BsmtHalfBath</th>\n",
       "      <td>2</td>\n",
       "      <td>0.068517</td>\n",
       "    </tr>\n",
       "    <tr>\n",
       "      <th>KitchenQual</th>\n",
       "      <td>1</td>\n",
       "      <td>0.034258</td>\n",
       "    </tr>\n",
       "    <tr>\n",
       "      <th>Functional</th>\n",
       "      <td>2</td>\n",
       "      <td>0.068517</td>\n",
       "    </tr>\n",
       "    <tr>\n",
       "      <th>GarageType</th>\n",
       "      <td>157</td>\n",
       "      <td>5.378554</td>\n",
       "    </tr>\n",
       "    <tr>\n",
       "      <th>GarageYrBlt</th>\n",
       "      <td>159</td>\n",
       "      <td>5.447071</td>\n",
       "    </tr>\n",
       "    <tr>\n",
       "      <th>GarageFinish</th>\n",
       "      <td>159</td>\n",
       "      <td>5.447071</td>\n",
       "    </tr>\n",
       "    <tr>\n",
       "      <th>GarageCars</th>\n",
       "      <td>1</td>\n",
       "      <td>0.034258</td>\n",
       "    </tr>\n",
       "    <tr>\n",
       "      <th>GarageArea</th>\n",
       "      <td>1</td>\n",
       "      <td>0.034258</td>\n",
       "    </tr>\n",
       "    <tr>\n",
       "      <th>GarageQual</th>\n",
       "      <td>159</td>\n",
       "      <td>5.447071</td>\n",
       "    </tr>\n",
       "    <tr>\n",
       "      <th>GarageCond</th>\n",
       "      <td>159</td>\n",
       "      <td>5.447071</td>\n",
       "    </tr>\n",
       "    <tr>\n",
       "      <th>SaleType</th>\n",
       "      <td>1</td>\n",
       "      <td>0.034258</td>\n",
       "    </tr>\n",
       "  </tbody>\n",
       "</table>\n",
       "</div>"
      ],
      "text/plain": [
       "              mis values  procent of mis values\n",
       "MSZoning               4               0.137033\n",
       "Utilities              2               0.068517\n",
       "Exterior1st            1               0.034258\n",
       "Exterior2nd            1               0.034258\n",
       "MasVnrType            24               0.822199\n",
       "MasVnrArea            23               0.787941\n",
       "BsmtQual              81               2.774923\n",
       "BsmtCond              82               2.809181\n",
       "BsmtExposure          82               2.809181\n",
       "BsmtFinType1          79               2.706406\n",
       "BsmtFinSF1             1               0.034258\n",
       "BsmtFinType2          80               2.740665\n",
       "BsmtFinSF2             1               0.034258\n",
       "BsmtUnfSF              1               0.034258\n",
       "TotalBsmtSF            1               0.034258\n",
       "Electrical             1               0.034258\n",
       "BsmtFullBath           2               0.068517\n",
       "BsmtHalfBath           2               0.068517\n",
       "KitchenQual            1               0.034258\n",
       "Functional             2               0.068517\n",
       "GarageType           157               5.378554\n",
       "GarageYrBlt          159               5.447071\n",
       "GarageFinish         159               5.447071\n",
       "GarageCars             1               0.034258\n",
       "GarageArea             1               0.034258\n",
       "GarageQual           159               5.447071\n",
       "GarageCond           159               5.447071\n",
       "SaleType               1               0.034258"
      ]
     },
     "execution_count": 7,
     "metadata": {},
     "output_type": "execute_result"
    }
   ],
   "source": [
    "mis_cols = list(mis_val[mis_val['procent of mis values']>15].index)\n",
    "new_data = all_data.drop(mis_cols, axis=1)\n",
    "mis_val = pd.DataFrame({\"mis values\": new_data.isnull().sum(),\"procent of mis values\": 100*new_data.isnull().sum()/len(new_data)})\n",
    "mis_val[mis_val['mis values']>0]"
   ]
  },
  {
   "cell_type": "markdown",
   "id": "56b86f24",
   "metadata": {
    "papermill": {
     "duration": 0.054127,
     "end_time": "2022-06-13T20:34:33.220961",
     "exception": false,
     "start_time": "2022-06-13T20:34:33.166834",
     "status": "completed"
    },
    "tags": []
   },
   "source": [
    "What about another variables.\n",
    "* About variables like Garage..., we can delete GarageYrBlt, GarageType, GarageFinish, GarageQual, GarageCond because we have another variables like the GarageCars and here we just replace 1 missed value with mean\n",
    "* BSMT... I leave the vars that have only 1 missing val and another delete\n",
    "* MasVnrArea and MasVnrType I also want to delete it, because it hasn't so strong correlation with target variable and it has correlation with important for us variable\n",
    "* BsmtHalfBath I delete because it has no correlation with target variable\n",
    "* All another values I will replace with mean values."
   ]
  },
  {
   "cell_type": "code",
   "execution_count": 8,
   "id": "82e98cfd",
   "metadata": {
    "execution": {
     "iopub.execute_input": "2022-06-13T20:34:33.338816Z",
     "iopub.status.busy": "2022-06-13T20:34:33.337833Z",
     "iopub.status.idle": "2022-06-13T20:34:33.371919Z",
     "shell.execute_reply": "2022-06-13T20:34:33.371343Z",
     "shell.execute_reply.started": "2022-06-13T20:33:29.681900Z"
    },
    "papermill": {
     "duration": 0.096407,
     "end_time": "2022-06-13T20:34:33.372080",
     "exception": false,
     "start_time": "2022-06-13T20:34:33.275673",
     "status": "completed"
    },
    "tags": []
   },
   "outputs": [
    {
     "data": {
      "text/html": [
       "<div>\n",
       "<style scoped>\n",
       "    .dataframe tbody tr th:only-of-type {\n",
       "        vertical-align: middle;\n",
       "    }\n",
       "\n",
       "    .dataframe tbody tr th {\n",
       "        vertical-align: top;\n",
       "    }\n",
       "\n",
       "    .dataframe thead th {\n",
       "        text-align: right;\n",
       "    }\n",
       "</style>\n",
       "<table border=\"1\" class=\"dataframe\">\n",
       "  <thead>\n",
       "    <tr style=\"text-align: right;\">\n",
       "      <th></th>\n",
       "      <th>mis values</th>\n",
       "      <th>procent of mis values</th>\n",
       "    </tr>\n",
       "  </thead>\n",
       "  <tbody>\n",
       "    <tr>\n",
       "      <th>MSZoning</th>\n",
       "      <td>4</td>\n",
       "      <td>0.137033</td>\n",
       "    </tr>\n",
       "    <tr>\n",
       "      <th>Utilities</th>\n",
       "      <td>2</td>\n",
       "      <td>0.068517</td>\n",
       "    </tr>\n",
       "    <tr>\n",
       "      <th>Exterior1st</th>\n",
       "      <td>1</td>\n",
       "      <td>0.034258</td>\n",
       "    </tr>\n",
       "    <tr>\n",
       "      <th>Exterior2nd</th>\n",
       "      <td>1</td>\n",
       "      <td>0.034258</td>\n",
       "    </tr>\n",
       "    <tr>\n",
       "      <th>MasVnrArea</th>\n",
       "      <td>23</td>\n",
       "      <td>0.787941</td>\n",
       "    </tr>\n",
       "    <tr>\n",
       "      <th>BsmtFinSF1</th>\n",
       "      <td>1</td>\n",
       "      <td>0.034258</td>\n",
       "    </tr>\n",
       "    <tr>\n",
       "      <th>BsmtFinSF2</th>\n",
       "      <td>1</td>\n",
       "      <td>0.034258</td>\n",
       "    </tr>\n",
       "    <tr>\n",
       "      <th>BsmtUnfSF</th>\n",
       "      <td>1</td>\n",
       "      <td>0.034258</td>\n",
       "    </tr>\n",
       "    <tr>\n",
       "      <th>TotalBsmtSF</th>\n",
       "      <td>1</td>\n",
       "      <td>0.034258</td>\n",
       "    </tr>\n",
       "    <tr>\n",
       "      <th>Electrical</th>\n",
       "      <td>1</td>\n",
       "      <td>0.034258</td>\n",
       "    </tr>\n",
       "    <tr>\n",
       "      <th>BsmtFullBath</th>\n",
       "      <td>2</td>\n",
       "      <td>0.068517</td>\n",
       "    </tr>\n",
       "    <tr>\n",
       "      <th>BsmtHalfBath</th>\n",
       "      <td>2</td>\n",
       "      <td>0.068517</td>\n",
       "    </tr>\n",
       "    <tr>\n",
       "      <th>KitchenQual</th>\n",
       "      <td>1</td>\n",
       "      <td>0.034258</td>\n",
       "    </tr>\n",
       "    <tr>\n",
       "      <th>Functional</th>\n",
       "      <td>2</td>\n",
       "      <td>0.068517</td>\n",
       "    </tr>\n",
       "    <tr>\n",
       "      <th>GarageCars</th>\n",
       "      <td>1</td>\n",
       "      <td>0.034258</td>\n",
       "    </tr>\n",
       "    <tr>\n",
       "      <th>GarageArea</th>\n",
       "      <td>1</td>\n",
       "      <td>0.034258</td>\n",
       "    </tr>\n",
       "    <tr>\n",
       "      <th>SaleType</th>\n",
       "      <td>1</td>\n",
       "      <td>0.034258</td>\n",
       "    </tr>\n",
       "  </tbody>\n",
       "</table>\n",
       "</div>"
      ],
      "text/plain": [
       "              mis values  procent of mis values\n",
       "MSZoning               4               0.137033\n",
       "Utilities              2               0.068517\n",
       "Exterior1st            1               0.034258\n",
       "Exterior2nd            1               0.034258\n",
       "MasVnrArea            23               0.787941\n",
       "BsmtFinSF1             1               0.034258\n",
       "BsmtFinSF2             1               0.034258\n",
       "BsmtUnfSF              1               0.034258\n",
       "TotalBsmtSF            1               0.034258\n",
       "Electrical             1               0.034258\n",
       "BsmtFullBath           2               0.068517\n",
       "BsmtHalfBath           2               0.068517\n",
       "KitchenQual            1               0.034258\n",
       "Functional             2               0.068517\n",
       "GarageCars             1               0.034258\n",
       "GarageArea             1               0.034258\n",
       "SaleType               1               0.034258"
      ]
     },
     "execution_count": 8,
     "metadata": {},
     "output_type": "execute_result"
    }
   ],
   "source": [
    "mis_cols_del = ['MasVnrType', 'GarageYrBlt', 'GarageType', 'GarageFinish', 'GarageQual', 'GarageCond', 'BsmtFinType2', 'BsmtFinType1', 'BsmtExposure', 'BsmtCond', 'BsmtQual']\n",
    "new_data = new_data.drop(mis_cols_del, axis=1)\n",
    "mis_val = pd.DataFrame({\"mis values\": new_data.isnull().sum(),\"procent of mis values\": 100*new_data.isnull().sum()/len(new_data)})\n",
    "mis_val[mis_val['mis values']>0]"
   ]
  },
  {
   "cell_type": "markdown",
   "id": "b15648a1",
   "metadata": {
    "papermill": {
     "duration": 0.055285,
     "end_time": "2022-06-13T20:34:33.482199",
     "exception": false,
     "start_time": "2022-06-13T20:34:33.426914",
     "status": "completed"
    },
    "tags": []
   },
   "source": [
    "Okay, this all values I will replace with mean values. But firstly, let's change our objects variable in numerical ones"
   ]
  },
  {
   "cell_type": "code",
   "execution_count": 9,
   "id": "9c4075ea",
   "metadata": {
    "execution": {
     "iopub.execute_input": "2022-06-13T20:34:33.599456Z",
     "iopub.status.busy": "2022-06-13T20:34:33.598459Z",
     "iopub.status.idle": "2022-06-13T20:34:33.723247Z",
     "shell.execute_reply": "2022-06-13T20:34:33.723724Z",
     "shell.execute_reply.started": "2022-06-13T20:33:29.722878Z"
    },
    "papermill": {
     "duration": 0.186761,
     "end_time": "2022-06-13T20:34:33.723907",
     "exception": false,
     "start_time": "2022-06-13T20:34:33.537146",
     "status": "completed"
    },
    "tags": []
   },
   "outputs": [],
   "source": [
    "columns_object = list(new_data.select_dtypes(include=[object]).columns)\n",
    "for col in columns_object:\n",
    "    dict_val = dict()\n",
    "    for (ind, val) in enumerate(list(new_data[col].unique())):\n",
    "        if pd.isna(val):\n",
    "            dict_val[val]=val\n",
    "        else:\n",
    "            dict_val[val]=ind\n",
    "    new_data[col].replace(dict_val, inplace=True)"
   ]
  },
  {
   "cell_type": "code",
   "execution_count": 10,
   "id": "a8dce025",
   "metadata": {
    "execution": {
     "iopub.execute_input": "2022-06-13T20:34:33.842629Z",
     "iopub.status.busy": "2022-06-13T20:34:33.841935Z",
     "iopub.status.idle": "2022-06-13T20:34:33.929734Z",
     "shell.execute_reply": "2022-06-13T20:34:33.929121Z",
     "shell.execute_reply.started": "2022-06-13T20:33:29.860251Z"
    },
    "papermill": {
     "duration": 0.150489,
     "end_time": "2022-06-13T20:34:33.929874",
     "exception": false,
     "start_time": "2022-06-13T20:34:33.779385",
     "status": "completed"
    },
    "tags": []
   },
   "outputs": [],
   "source": [
    "missed_cols = list(mis_val[mis_val['mis values']>0].index)\n",
    "for col in missed_cols:\n",
    "    if col in columns_object:\n",
    "        new_data[col]=new_data.groupby(['OverallQual'])[col].apply(lambda x: x.fillna(x.mode().iloc[0]))\n",
    "    else:\n",
    "        new_data[col] = new_data[col].fillna(new_data.groupby(['OverallQual', 'YearBuilt'])[col].transform('mean'))"
   ]
  },
  {
   "cell_type": "markdown",
   "id": "c05d864a",
   "metadata": {
    "papermill": {
     "duration": 0.055006,
     "end_time": "2022-06-13T20:34:34.040837",
     "exception": false,
     "start_time": "2022-06-13T20:34:33.985831",
     "status": "completed"
    },
    "tags": []
   },
   "source": [
    "New columns"
   ]
  },
  {
   "cell_type": "code",
   "execution_count": 11,
   "id": "1f4b13a9",
   "metadata": {
    "execution": {
     "iopub.execute_input": "2022-06-13T20:34:34.165172Z",
     "iopub.status.busy": "2022-06-13T20:34:34.164489Z",
     "iopub.status.idle": "2022-06-13T20:34:34.211726Z",
     "shell.execute_reply": "2022-06-13T20:34:34.211142Z",
     "shell.execute_reply.started": "2022-06-13T20:33:29.933769Z"
    },
    "papermill": {
     "duration": 0.114594,
     "end_time": "2022-06-13T20:34:34.211870",
     "exception": false,
     "start_time": "2022-06-13T20:34:34.097276",
     "status": "completed"
    },
    "tags": []
   },
   "outputs": [
    {
     "data": {
      "text/html": [
       "<div>\n",
       "<style scoped>\n",
       "    .dataframe tbody tr th:only-of-type {\n",
       "        vertical-align: middle;\n",
       "    }\n",
       "\n",
       "    .dataframe tbody tr th {\n",
       "        vertical-align: top;\n",
       "    }\n",
       "\n",
       "    .dataframe thead th {\n",
       "        text-align: right;\n",
       "    }\n",
       "</style>\n",
       "<table border=\"1\" class=\"dataframe\">\n",
       "  <thead>\n",
       "    <tr style=\"text-align: right;\">\n",
       "      <th></th>\n",
       "      <th>MSSubClass</th>\n",
       "      <th>MSZoning</th>\n",
       "      <th>LotArea</th>\n",
       "      <th>Street</th>\n",
       "      <th>LotShape</th>\n",
       "      <th>LandContour</th>\n",
       "      <th>Utilities</th>\n",
       "      <th>LotConfig</th>\n",
       "      <th>LandSlope</th>\n",
       "      <th>Neighborhood</th>\n",
       "      <th>Condition1</th>\n",
       "      <th>Condition2</th>\n",
       "      <th>BldgType</th>\n",
       "      <th>HouseStyle</th>\n",
       "      <th>OverallQual</th>\n",
       "      <th>OverallCond</th>\n",
       "      <th>YearBuilt</th>\n",
       "      <th>YearRemodAdd</th>\n",
       "      <th>RoofStyle</th>\n",
       "      <th>RoofMatl</th>\n",
       "      <th>Exterior1st</th>\n",
       "      <th>Exterior2nd</th>\n",
       "      <th>MasVnrArea</th>\n",
       "      <th>ExterQual</th>\n",
       "      <th>ExterCond</th>\n",
       "      <th>Foundation</th>\n",
       "      <th>BsmtFinSF1</th>\n",
       "      <th>BsmtFinSF2</th>\n",
       "      <th>BsmtUnfSF</th>\n",
       "      <th>TotalBsmtSF</th>\n",
       "      <th>Heating</th>\n",
       "      <th>HeatingQC</th>\n",
       "      <th>CentralAir</th>\n",
       "      <th>Electrical</th>\n",
       "      <th>1stFlrSF</th>\n",
       "      <th>2ndFlrSF</th>\n",
       "      <th>LowQualFinSF</th>\n",
       "      <th>GrLivArea</th>\n",
       "      <th>BsmtFullBath</th>\n",
       "      <th>BsmtHalfBath</th>\n",
       "      <th>FullBath</th>\n",
       "      <th>HalfBath</th>\n",
       "      <th>BedroomAbvGr</th>\n",
       "      <th>KitchenAbvGr</th>\n",
       "      <th>KitchenQual</th>\n",
       "      <th>TotRmsAbvGrd</th>\n",
       "      <th>Functional</th>\n",
       "      <th>Fireplaces</th>\n",
       "      <th>GarageCars</th>\n",
       "      <th>GarageArea</th>\n",
       "      <th>PavedDrive</th>\n",
       "      <th>WoodDeckSF</th>\n",
       "      <th>OpenPorchSF</th>\n",
       "      <th>EnclosedPorch</th>\n",
       "      <th>3SsnPorch</th>\n",
       "      <th>ScreenPorch</th>\n",
       "      <th>PoolArea</th>\n",
       "      <th>MiscVal</th>\n",
       "      <th>MoSold</th>\n",
       "      <th>YrSold</th>\n",
       "      <th>SaleType</th>\n",
       "      <th>SaleCondition</th>\n",
       "      <th>garage</th>\n",
       "      <th>pool</th>\n",
       "    </tr>\n",
       "    <tr>\n",
       "      <th>Id</th>\n",
       "      <th></th>\n",
       "      <th></th>\n",
       "      <th></th>\n",
       "      <th></th>\n",
       "      <th></th>\n",
       "      <th></th>\n",
       "      <th></th>\n",
       "      <th></th>\n",
       "      <th></th>\n",
       "      <th></th>\n",
       "      <th></th>\n",
       "      <th></th>\n",
       "      <th></th>\n",
       "      <th></th>\n",
       "      <th></th>\n",
       "      <th></th>\n",
       "      <th></th>\n",
       "      <th></th>\n",
       "      <th></th>\n",
       "      <th></th>\n",
       "      <th></th>\n",
       "      <th></th>\n",
       "      <th></th>\n",
       "      <th></th>\n",
       "      <th></th>\n",
       "      <th></th>\n",
       "      <th></th>\n",
       "      <th></th>\n",
       "      <th></th>\n",
       "      <th></th>\n",
       "      <th></th>\n",
       "      <th></th>\n",
       "      <th></th>\n",
       "      <th></th>\n",
       "      <th></th>\n",
       "      <th></th>\n",
       "      <th></th>\n",
       "      <th></th>\n",
       "      <th></th>\n",
       "      <th></th>\n",
       "      <th></th>\n",
       "      <th></th>\n",
       "      <th></th>\n",
       "      <th></th>\n",
       "      <th></th>\n",
       "      <th></th>\n",
       "      <th></th>\n",
       "      <th></th>\n",
       "      <th></th>\n",
       "      <th></th>\n",
       "      <th></th>\n",
       "      <th></th>\n",
       "      <th></th>\n",
       "      <th></th>\n",
       "      <th></th>\n",
       "      <th></th>\n",
       "      <th></th>\n",
       "      <th></th>\n",
       "      <th></th>\n",
       "      <th></th>\n",
       "      <th></th>\n",
       "      <th></th>\n",
       "      <th></th>\n",
       "      <th></th>\n",
       "    </tr>\n",
       "  </thead>\n",
       "  <tbody>\n",
       "    <tr>\n",
       "      <th>1</th>\n",
       "      <td>60</td>\n",
       "      <td>0.0</td>\n",
       "      <td>8450</td>\n",
       "      <td>0</td>\n",
       "      <td>0</td>\n",
       "      <td>0</td>\n",
       "      <td>0.0</td>\n",
       "      <td>0</td>\n",
       "      <td>0</td>\n",
       "      <td>0</td>\n",
       "      <td>0</td>\n",
       "      <td>0</td>\n",
       "      <td>0</td>\n",
       "      <td>0</td>\n",
       "      <td>7</td>\n",
       "      <td>5</td>\n",
       "      <td>2003</td>\n",
       "      <td>2003</td>\n",
       "      <td>0</td>\n",
       "      <td>0</td>\n",
       "      <td>0.0</td>\n",
       "      <td>0.0</td>\n",
       "      <td>196.0</td>\n",
       "      <td>0</td>\n",
       "      <td>0</td>\n",
       "      <td>0</td>\n",
       "      <td>706.0</td>\n",
       "      <td>0.0</td>\n",
       "      <td>150.0</td>\n",
       "      <td>856.0</td>\n",
       "      <td>0</td>\n",
       "      <td>0</td>\n",
       "      <td>0</td>\n",
       "      <td>0.0</td>\n",
       "      <td>856</td>\n",
       "      <td>854</td>\n",
       "      <td>0</td>\n",
       "      <td>1710</td>\n",
       "      <td>1.0</td>\n",
       "      <td>0.0</td>\n",
       "      <td>2</td>\n",
       "      <td>1</td>\n",
       "      <td>3</td>\n",
       "      <td>1</td>\n",
       "      <td>0.0</td>\n",
       "      <td>8</td>\n",
       "      <td>0.0</td>\n",
       "      <td>0</td>\n",
       "      <td>2.0</td>\n",
       "      <td>548.0</td>\n",
       "      <td>0</td>\n",
       "      <td>0</td>\n",
       "      <td>61</td>\n",
       "      <td>0</td>\n",
       "      <td>0</td>\n",
       "      <td>0</td>\n",
       "      <td>0</td>\n",
       "      <td>0</td>\n",
       "      <td>2</td>\n",
       "      <td>2008</td>\n",
       "      <td>0.0</td>\n",
       "      <td>0</td>\n",
       "      <td>1</td>\n",
       "      <td>0</td>\n",
       "    </tr>\n",
       "    <tr>\n",
       "      <th>2</th>\n",
       "      <td>20</td>\n",
       "      <td>0.0</td>\n",
       "      <td>9600</td>\n",
       "      <td>0</td>\n",
       "      <td>0</td>\n",
       "      <td>0</td>\n",
       "      <td>0.0</td>\n",
       "      <td>1</td>\n",
       "      <td>0</td>\n",
       "      <td>1</td>\n",
       "      <td>1</td>\n",
       "      <td>0</td>\n",
       "      <td>0</td>\n",
       "      <td>1</td>\n",
       "      <td>6</td>\n",
       "      <td>8</td>\n",
       "      <td>1976</td>\n",
       "      <td>1976</td>\n",
       "      <td>0</td>\n",
       "      <td>0</td>\n",
       "      <td>1.0</td>\n",
       "      <td>1.0</td>\n",
       "      <td>0.0</td>\n",
       "      <td>1</td>\n",
       "      <td>0</td>\n",
       "      <td>1</td>\n",
       "      <td>978.0</td>\n",
       "      <td>0.0</td>\n",
       "      <td>284.0</td>\n",
       "      <td>1262.0</td>\n",
       "      <td>0</td>\n",
       "      <td>0</td>\n",
       "      <td>0</td>\n",
       "      <td>0.0</td>\n",
       "      <td>1262</td>\n",
       "      <td>0</td>\n",
       "      <td>0</td>\n",
       "      <td>1262</td>\n",
       "      <td>0.0</td>\n",
       "      <td>1.0</td>\n",
       "      <td>2</td>\n",
       "      <td>0</td>\n",
       "      <td>3</td>\n",
       "      <td>1</td>\n",
       "      <td>1.0</td>\n",
       "      <td>6</td>\n",
       "      <td>0.0</td>\n",
       "      <td>1</td>\n",
       "      <td>2.0</td>\n",
       "      <td>460.0</td>\n",
       "      <td>0</td>\n",
       "      <td>298</td>\n",
       "      <td>0</td>\n",
       "      <td>0</td>\n",
       "      <td>0</td>\n",
       "      <td>0</td>\n",
       "      <td>0</td>\n",
       "      <td>0</td>\n",
       "      <td>5</td>\n",
       "      <td>2007</td>\n",
       "      <td>0.0</td>\n",
       "      <td>0</td>\n",
       "      <td>1</td>\n",
       "      <td>0</td>\n",
       "    </tr>\n",
       "    <tr>\n",
       "      <th>3</th>\n",
       "      <td>60</td>\n",
       "      <td>0.0</td>\n",
       "      <td>11250</td>\n",
       "      <td>0</td>\n",
       "      <td>1</td>\n",
       "      <td>0</td>\n",
       "      <td>0.0</td>\n",
       "      <td>0</td>\n",
       "      <td>0</td>\n",
       "      <td>0</td>\n",
       "      <td>0</td>\n",
       "      <td>0</td>\n",
       "      <td>0</td>\n",
       "      <td>0</td>\n",
       "      <td>7</td>\n",
       "      <td>5</td>\n",
       "      <td>2001</td>\n",
       "      <td>2002</td>\n",
       "      <td>0</td>\n",
       "      <td>0</td>\n",
       "      <td>0.0</td>\n",
       "      <td>0.0</td>\n",
       "      <td>162.0</td>\n",
       "      <td>0</td>\n",
       "      <td>0</td>\n",
       "      <td>0</td>\n",
       "      <td>486.0</td>\n",
       "      <td>0.0</td>\n",
       "      <td>434.0</td>\n",
       "      <td>920.0</td>\n",
       "      <td>0</td>\n",
       "      <td>0</td>\n",
       "      <td>0</td>\n",
       "      <td>0.0</td>\n",
       "      <td>920</td>\n",
       "      <td>866</td>\n",
       "      <td>0</td>\n",
       "      <td>1786</td>\n",
       "      <td>1.0</td>\n",
       "      <td>0.0</td>\n",
       "      <td>2</td>\n",
       "      <td>1</td>\n",
       "      <td>3</td>\n",
       "      <td>1</td>\n",
       "      <td>0.0</td>\n",
       "      <td>6</td>\n",
       "      <td>0.0</td>\n",
       "      <td>1</td>\n",
       "      <td>2.0</td>\n",
       "      <td>608.0</td>\n",
       "      <td>0</td>\n",
       "      <td>0</td>\n",
       "      <td>42</td>\n",
       "      <td>0</td>\n",
       "      <td>0</td>\n",
       "      <td>0</td>\n",
       "      <td>0</td>\n",
       "      <td>0</td>\n",
       "      <td>9</td>\n",
       "      <td>2008</td>\n",
       "      <td>0.0</td>\n",
       "      <td>0</td>\n",
       "      <td>1</td>\n",
       "      <td>0</td>\n",
       "    </tr>\n",
       "    <tr>\n",
       "      <th>4</th>\n",
       "      <td>70</td>\n",
       "      <td>0.0</td>\n",
       "      <td>9550</td>\n",
       "      <td>0</td>\n",
       "      <td>1</td>\n",
       "      <td>0</td>\n",
       "      <td>0.0</td>\n",
       "      <td>2</td>\n",
       "      <td>0</td>\n",
       "      <td>2</td>\n",
       "      <td>0</td>\n",
       "      <td>0</td>\n",
       "      <td>0</td>\n",
       "      <td>0</td>\n",
       "      <td>7</td>\n",
       "      <td>5</td>\n",
       "      <td>1915</td>\n",
       "      <td>1970</td>\n",
       "      <td>0</td>\n",
       "      <td>0</td>\n",
       "      <td>2.0</td>\n",
       "      <td>2.0</td>\n",
       "      <td>0.0</td>\n",
       "      <td>1</td>\n",
       "      <td>0</td>\n",
       "      <td>2</td>\n",
       "      <td>216.0</td>\n",
       "      <td>0.0</td>\n",
       "      <td>540.0</td>\n",
       "      <td>756.0</td>\n",
       "      <td>0</td>\n",
       "      <td>1</td>\n",
       "      <td>0</td>\n",
       "      <td>0.0</td>\n",
       "      <td>961</td>\n",
       "      <td>756</td>\n",
       "      <td>0</td>\n",
       "      <td>1717</td>\n",
       "      <td>1.0</td>\n",
       "      <td>0.0</td>\n",
       "      <td>1</td>\n",
       "      <td>0</td>\n",
       "      <td>3</td>\n",
       "      <td>1</td>\n",
       "      <td>0.0</td>\n",
       "      <td>7</td>\n",
       "      <td>0.0</td>\n",
       "      <td>1</td>\n",
       "      <td>3.0</td>\n",
       "      <td>642.0</td>\n",
       "      <td>0</td>\n",
       "      <td>0</td>\n",
       "      <td>35</td>\n",
       "      <td>272</td>\n",
       "      <td>0</td>\n",
       "      <td>0</td>\n",
       "      <td>0</td>\n",
       "      <td>0</td>\n",
       "      <td>2</td>\n",
       "      <td>2006</td>\n",
       "      <td>0.0</td>\n",
       "      <td>1</td>\n",
       "      <td>1</td>\n",
       "      <td>0</td>\n",
       "    </tr>\n",
       "    <tr>\n",
       "      <th>5</th>\n",
       "      <td>60</td>\n",
       "      <td>0.0</td>\n",
       "      <td>14260</td>\n",
       "      <td>0</td>\n",
       "      <td>1</td>\n",
       "      <td>0</td>\n",
       "      <td>0.0</td>\n",
       "      <td>1</td>\n",
       "      <td>0</td>\n",
       "      <td>3</td>\n",
       "      <td>0</td>\n",
       "      <td>0</td>\n",
       "      <td>0</td>\n",
       "      <td>0</td>\n",
       "      <td>8</td>\n",
       "      <td>5</td>\n",
       "      <td>2000</td>\n",
       "      <td>2000</td>\n",
       "      <td>0</td>\n",
       "      <td>0</td>\n",
       "      <td>0.0</td>\n",
       "      <td>0.0</td>\n",
       "      <td>350.0</td>\n",
       "      <td>0</td>\n",
       "      <td>0</td>\n",
       "      <td>0</td>\n",
       "      <td>655.0</td>\n",
       "      <td>0.0</td>\n",
       "      <td>490.0</td>\n",
       "      <td>1145.0</td>\n",
       "      <td>0</td>\n",
       "      <td>0</td>\n",
       "      <td>0</td>\n",
       "      <td>0.0</td>\n",
       "      <td>1145</td>\n",
       "      <td>1053</td>\n",
       "      <td>0</td>\n",
       "      <td>2198</td>\n",
       "      <td>1.0</td>\n",
       "      <td>0.0</td>\n",
       "      <td>2</td>\n",
       "      <td>1</td>\n",
       "      <td>4</td>\n",
       "      <td>1</td>\n",
       "      <td>0.0</td>\n",
       "      <td>9</td>\n",
       "      <td>0.0</td>\n",
       "      <td>1</td>\n",
       "      <td>3.0</td>\n",
       "      <td>836.0</td>\n",
       "      <td>0</td>\n",
       "      <td>192</td>\n",
       "      <td>84</td>\n",
       "      <td>0</td>\n",
       "      <td>0</td>\n",
       "      <td>0</td>\n",
       "      <td>0</td>\n",
       "      <td>0</td>\n",
       "      <td>12</td>\n",
       "      <td>2008</td>\n",
       "      <td>0.0</td>\n",
       "      <td>0</td>\n",
       "      <td>1</td>\n",
       "      <td>0</td>\n",
       "    </tr>\n",
       "  </tbody>\n",
       "</table>\n",
       "</div>"
      ],
      "text/plain": [
       "    MSSubClass  MSZoning  LotArea  Street  LotShape  LandContour  Utilities  \\\n",
       "Id                                                                            \n",
       "1           60       0.0     8450       0         0            0        0.0   \n",
       "2           20       0.0     9600       0         0            0        0.0   \n",
       "3           60       0.0    11250       0         1            0        0.0   \n",
       "4           70       0.0     9550       0         1            0        0.0   \n",
       "5           60       0.0    14260       0         1            0        0.0   \n",
       "\n",
       "    LotConfig  LandSlope  Neighborhood  Condition1  Condition2  BldgType  \\\n",
       "Id                                                                         \n",
       "1           0          0             0           0           0         0   \n",
       "2           1          0             1           1           0         0   \n",
       "3           0          0             0           0           0         0   \n",
       "4           2          0             2           0           0         0   \n",
       "5           1          0             3           0           0         0   \n",
       "\n",
       "    HouseStyle  OverallQual  OverallCond  YearBuilt  YearRemodAdd  RoofStyle  \\\n",
       "Id                                                                             \n",
       "1            0            7            5       2003          2003          0   \n",
       "2            1            6            8       1976          1976          0   \n",
       "3            0            7            5       2001          2002          0   \n",
       "4            0            7            5       1915          1970          0   \n",
       "5            0            8            5       2000          2000          0   \n",
       "\n",
       "    RoofMatl  Exterior1st  Exterior2nd  MasVnrArea  ExterQual  ExterCond  \\\n",
       "Id                                                                         \n",
       "1          0          0.0          0.0       196.0          0          0   \n",
       "2          0          1.0          1.0         0.0          1          0   \n",
       "3          0          0.0          0.0       162.0          0          0   \n",
       "4          0          2.0          2.0         0.0          1          0   \n",
       "5          0          0.0          0.0       350.0          0          0   \n",
       "\n",
       "    Foundation  BsmtFinSF1  BsmtFinSF2  BsmtUnfSF  TotalBsmtSF  Heating  \\\n",
       "Id                                                                        \n",
       "1            0       706.0         0.0      150.0        856.0        0   \n",
       "2            1       978.0         0.0      284.0       1262.0        0   \n",
       "3            0       486.0         0.0      434.0        920.0        0   \n",
       "4            2       216.0         0.0      540.0        756.0        0   \n",
       "5            0       655.0         0.0      490.0       1145.0        0   \n",
       "\n",
       "    HeatingQC  CentralAir  Electrical  1stFlrSF  2ndFlrSF  LowQualFinSF  \\\n",
       "Id                                                                        \n",
       "1           0           0         0.0       856       854             0   \n",
       "2           0           0         0.0      1262         0             0   \n",
       "3           0           0         0.0       920       866             0   \n",
       "4           1           0         0.0       961       756             0   \n",
       "5           0           0         0.0      1145      1053             0   \n",
       "\n",
       "    GrLivArea  BsmtFullBath  BsmtHalfBath  FullBath  HalfBath  BedroomAbvGr  \\\n",
       "Id                                                                            \n",
       "1        1710           1.0           0.0         2         1             3   \n",
       "2        1262           0.0           1.0         2         0             3   \n",
       "3        1786           1.0           0.0         2         1             3   \n",
       "4        1717           1.0           0.0         1         0             3   \n",
       "5        2198           1.0           0.0         2         1             4   \n",
       "\n",
       "    KitchenAbvGr  KitchenQual  TotRmsAbvGrd  Functional  Fireplaces  \\\n",
       "Id                                                                    \n",
       "1              1          0.0             8         0.0           0   \n",
       "2              1          1.0             6         0.0           1   \n",
       "3              1          0.0             6         0.0           1   \n",
       "4              1          0.0             7         0.0           1   \n",
       "5              1          0.0             9         0.0           1   \n",
       "\n",
       "    GarageCars  GarageArea  PavedDrive  WoodDeckSF  OpenPorchSF  \\\n",
       "Id                                                                \n",
       "1          2.0       548.0           0           0           61   \n",
       "2          2.0       460.0           0         298            0   \n",
       "3          2.0       608.0           0           0           42   \n",
       "4          3.0       642.0           0           0           35   \n",
       "5          3.0       836.0           0         192           84   \n",
       "\n",
       "    EnclosedPorch  3SsnPorch  ScreenPorch  PoolArea  MiscVal  MoSold  YrSold  \\\n",
       "Id                                                                             \n",
       "1               0          0            0         0        0       2    2008   \n",
       "2               0          0            0         0        0       5    2007   \n",
       "3               0          0            0         0        0       9    2008   \n",
       "4             272          0            0         0        0       2    2006   \n",
       "5               0          0            0         0        0      12    2008   \n",
       "\n",
       "    SaleType  SaleCondition  garage  pool  \n",
       "Id                                         \n",
       "1        0.0              0       1     0  \n",
       "2        0.0              0       1     0  \n",
       "3        0.0              0       1     0  \n",
       "4        0.0              1       1     0  \n",
       "5        0.0              0       1     0  "
      ]
     },
     "execution_count": 11,
     "metadata": {},
     "output_type": "execute_result"
    }
   ],
   "source": [
    "new_data['garage'] = [1 if i>0 else 0 for i in new_data['GarageArea']]\n",
    "new_data['pool'] = [1 if i>0 else 0 for i in new_data['PoolArea']]\n",
    "new_data.head()"
   ]
  },
  {
   "cell_type": "markdown",
   "id": "0a2c2953",
   "metadata": {
    "papermill": {
     "duration": 0.056169,
     "end_time": "2022-06-13T20:34:34.324751",
     "exception": false,
     "start_time": "2022-06-13T20:34:34.268582",
     "status": "completed"
    },
    "tags": []
   },
   "source": [
    "Outliers"
   ]
  },
  {
   "cell_type": "code",
   "execution_count": 12,
   "id": "377e15af",
   "metadata": {
    "execution": {
     "iopub.execute_input": "2022-06-13T20:34:34.447910Z",
     "iopub.status.busy": "2022-06-13T20:34:34.445352Z",
     "iopub.status.idle": "2022-06-13T20:34:34.501098Z",
     "shell.execute_reply": "2022-06-13T20:34:34.500499Z",
     "shell.execute_reply.started": "2022-06-13T20:33:29.993159Z"
    },
    "papermill": {
     "duration": 0.119809,
     "end_time": "2022-06-13T20:34:34.501247",
     "exception": false,
     "start_time": "2022-06-13T20:34:34.381438",
     "status": "completed"
    },
    "tags": []
   },
   "outputs": [
    {
     "data": {
      "text/html": [
       "<div>\n",
       "<style scoped>\n",
       "    .dataframe tbody tr th:only-of-type {\n",
       "        vertical-align: middle;\n",
       "    }\n",
       "\n",
       "    .dataframe tbody tr th {\n",
       "        vertical-align: top;\n",
       "    }\n",
       "\n",
       "    .dataframe thead th {\n",
       "        text-align: right;\n",
       "    }\n",
       "</style>\n",
       "<table border=\"1\" class=\"dataframe\">\n",
       "  <thead>\n",
       "    <tr style=\"text-align: right;\">\n",
       "      <th></th>\n",
       "      <th>MSSubClass</th>\n",
       "      <th>MSZoning</th>\n",
       "      <th>LotArea</th>\n",
       "      <th>Street</th>\n",
       "      <th>LotShape</th>\n",
       "      <th>LandContour</th>\n",
       "      <th>Utilities</th>\n",
       "      <th>LotConfig</th>\n",
       "      <th>LandSlope</th>\n",
       "      <th>Neighborhood</th>\n",
       "      <th>Condition1</th>\n",
       "      <th>Condition2</th>\n",
       "      <th>BldgType</th>\n",
       "      <th>HouseStyle</th>\n",
       "      <th>OverallQual</th>\n",
       "      <th>OverallCond</th>\n",
       "      <th>YearBuilt</th>\n",
       "      <th>YearRemodAdd</th>\n",
       "      <th>RoofStyle</th>\n",
       "      <th>RoofMatl</th>\n",
       "      <th>Exterior1st</th>\n",
       "      <th>Exterior2nd</th>\n",
       "      <th>MasVnrArea</th>\n",
       "      <th>ExterQual</th>\n",
       "      <th>ExterCond</th>\n",
       "      <th>Foundation</th>\n",
       "      <th>BsmtFinSF1</th>\n",
       "      <th>BsmtFinSF2</th>\n",
       "      <th>BsmtUnfSF</th>\n",
       "      <th>TotalBsmtSF</th>\n",
       "      <th>Heating</th>\n",
       "      <th>HeatingQC</th>\n",
       "      <th>CentralAir</th>\n",
       "      <th>Electrical</th>\n",
       "      <th>1stFlrSF</th>\n",
       "      <th>2ndFlrSF</th>\n",
       "      <th>LowQualFinSF</th>\n",
       "      <th>GrLivArea</th>\n",
       "      <th>BsmtFullBath</th>\n",
       "      <th>BsmtHalfBath</th>\n",
       "      <th>FullBath</th>\n",
       "      <th>HalfBath</th>\n",
       "      <th>BedroomAbvGr</th>\n",
       "      <th>KitchenAbvGr</th>\n",
       "      <th>KitchenQual</th>\n",
       "      <th>TotRmsAbvGrd</th>\n",
       "      <th>Functional</th>\n",
       "      <th>Fireplaces</th>\n",
       "      <th>GarageCars</th>\n",
       "      <th>GarageArea</th>\n",
       "      <th>PavedDrive</th>\n",
       "      <th>WoodDeckSF</th>\n",
       "      <th>OpenPorchSF</th>\n",
       "      <th>EnclosedPorch</th>\n",
       "      <th>3SsnPorch</th>\n",
       "      <th>ScreenPorch</th>\n",
       "      <th>PoolArea</th>\n",
       "      <th>MiscVal</th>\n",
       "      <th>MoSold</th>\n",
       "      <th>YrSold</th>\n",
       "      <th>SaleType</th>\n",
       "      <th>SaleCondition</th>\n",
       "      <th>garage</th>\n",
       "      <th>pool</th>\n",
       "      <th>SalePrice</th>\n",
       "    </tr>\n",
       "    <tr>\n",
       "      <th>Id</th>\n",
       "      <th></th>\n",
       "      <th></th>\n",
       "      <th></th>\n",
       "      <th></th>\n",
       "      <th></th>\n",
       "      <th></th>\n",
       "      <th></th>\n",
       "      <th></th>\n",
       "      <th></th>\n",
       "      <th></th>\n",
       "      <th></th>\n",
       "      <th></th>\n",
       "      <th></th>\n",
       "      <th></th>\n",
       "      <th></th>\n",
       "      <th></th>\n",
       "      <th></th>\n",
       "      <th></th>\n",
       "      <th></th>\n",
       "      <th></th>\n",
       "      <th></th>\n",
       "      <th></th>\n",
       "      <th></th>\n",
       "      <th></th>\n",
       "      <th></th>\n",
       "      <th></th>\n",
       "      <th></th>\n",
       "      <th></th>\n",
       "      <th></th>\n",
       "      <th></th>\n",
       "      <th></th>\n",
       "      <th></th>\n",
       "      <th></th>\n",
       "      <th></th>\n",
       "      <th></th>\n",
       "      <th></th>\n",
       "      <th></th>\n",
       "      <th></th>\n",
       "      <th></th>\n",
       "      <th></th>\n",
       "      <th></th>\n",
       "      <th></th>\n",
       "      <th></th>\n",
       "      <th></th>\n",
       "      <th></th>\n",
       "      <th></th>\n",
       "      <th></th>\n",
       "      <th></th>\n",
       "      <th></th>\n",
       "      <th></th>\n",
       "      <th></th>\n",
       "      <th></th>\n",
       "      <th></th>\n",
       "      <th></th>\n",
       "      <th></th>\n",
       "      <th></th>\n",
       "      <th></th>\n",
       "      <th></th>\n",
       "      <th></th>\n",
       "      <th></th>\n",
       "      <th></th>\n",
       "      <th></th>\n",
       "      <th></th>\n",
       "      <th></th>\n",
       "      <th></th>\n",
       "    </tr>\n",
       "  </thead>\n",
       "  <tbody>\n",
       "    <tr>\n",
       "      <th>1</th>\n",
       "      <td>60</td>\n",
       "      <td>0.0</td>\n",
       "      <td>8450</td>\n",
       "      <td>0</td>\n",
       "      <td>0</td>\n",
       "      <td>0</td>\n",
       "      <td>0.0</td>\n",
       "      <td>0</td>\n",
       "      <td>0</td>\n",
       "      <td>0</td>\n",
       "      <td>0</td>\n",
       "      <td>0</td>\n",
       "      <td>0</td>\n",
       "      <td>0</td>\n",
       "      <td>7</td>\n",
       "      <td>5</td>\n",
       "      <td>2003</td>\n",
       "      <td>2003</td>\n",
       "      <td>0</td>\n",
       "      <td>0</td>\n",
       "      <td>0.0</td>\n",
       "      <td>0.0</td>\n",
       "      <td>196.0</td>\n",
       "      <td>0</td>\n",
       "      <td>0</td>\n",
       "      <td>0</td>\n",
       "      <td>706.0</td>\n",
       "      <td>0.0</td>\n",
       "      <td>150.0</td>\n",
       "      <td>856.0</td>\n",
       "      <td>0</td>\n",
       "      <td>0</td>\n",
       "      <td>0</td>\n",
       "      <td>0.0</td>\n",
       "      <td>856</td>\n",
       "      <td>854</td>\n",
       "      <td>0</td>\n",
       "      <td>1710</td>\n",
       "      <td>1.0</td>\n",
       "      <td>0.0</td>\n",
       "      <td>2</td>\n",
       "      <td>1</td>\n",
       "      <td>3</td>\n",
       "      <td>1</td>\n",
       "      <td>0.0</td>\n",
       "      <td>8</td>\n",
       "      <td>0.0</td>\n",
       "      <td>0</td>\n",
       "      <td>2.0</td>\n",
       "      <td>548.0</td>\n",
       "      <td>0</td>\n",
       "      <td>0</td>\n",
       "      <td>61</td>\n",
       "      <td>0</td>\n",
       "      <td>0</td>\n",
       "      <td>0</td>\n",
       "      <td>0</td>\n",
       "      <td>0</td>\n",
       "      <td>2</td>\n",
       "      <td>2008</td>\n",
       "      <td>0.0</td>\n",
       "      <td>0</td>\n",
       "      <td>1</td>\n",
       "      <td>0</td>\n",
       "      <td>208500</td>\n",
       "    </tr>\n",
       "    <tr>\n",
       "      <th>2</th>\n",
       "      <td>20</td>\n",
       "      <td>0.0</td>\n",
       "      <td>9600</td>\n",
       "      <td>0</td>\n",
       "      <td>0</td>\n",
       "      <td>0</td>\n",
       "      <td>0.0</td>\n",
       "      <td>1</td>\n",
       "      <td>0</td>\n",
       "      <td>1</td>\n",
       "      <td>1</td>\n",
       "      <td>0</td>\n",
       "      <td>0</td>\n",
       "      <td>1</td>\n",
       "      <td>6</td>\n",
       "      <td>8</td>\n",
       "      <td>1976</td>\n",
       "      <td>1976</td>\n",
       "      <td>0</td>\n",
       "      <td>0</td>\n",
       "      <td>1.0</td>\n",
       "      <td>1.0</td>\n",
       "      <td>0.0</td>\n",
       "      <td>1</td>\n",
       "      <td>0</td>\n",
       "      <td>1</td>\n",
       "      <td>978.0</td>\n",
       "      <td>0.0</td>\n",
       "      <td>284.0</td>\n",
       "      <td>1262.0</td>\n",
       "      <td>0</td>\n",
       "      <td>0</td>\n",
       "      <td>0</td>\n",
       "      <td>0.0</td>\n",
       "      <td>1262</td>\n",
       "      <td>0</td>\n",
       "      <td>0</td>\n",
       "      <td>1262</td>\n",
       "      <td>0.0</td>\n",
       "      <td>1.0</td>\n",
       "      <td>2</td>\n",
       "      <td>0</td>\n",
       "      <td>3</td>\n",
       "      <td>1</td>\n",
       "      <td>1.0</td>\n",
       "      <td>6</td>\n",
       "      <td>0.0</td>\n",
       "      <td>1</td>\n",
       "      <td>2.0</td>\n",
       "      <td>460.0</td>\n",
       "      <td>0</td>\n",
       "      <td>298</td>\n",
       "      <td>0</td>\n",
       "      <td>0</td>\n",
       "      <td>0</td>\n",
       "      <td>0</td>\n",
       "      <td>0</td>\n",
       "      <td>0</td>\n",
       "      <td>5</td>\n",
       "      <td>2007</td>\n",
       "      <td>0.0</td>\n",
       "      <td>0</td>\n",
       "      <td>1</td>\n",
       "      <td>0</td>\n",
       "      <td>181500</td>\n",
       "    </tr>\n",
       "    <tr>\n",
       "      <th>3</th>\n",
       "      <td>60</td>\n",
       "      <td>0.0</td>\n",
       "      <td>11250</td>\n",
       "      <td>0</td>\n",
       "      <td>1</td>\n",
       "      <td>0</td>\n",
       "      <td>0.0</td>\n",
       "      <td>0</td>\n",
       "      <td>0</td>\n",
       "      <td>0</td>\n",
       "      <td>0</td>\n",
       "      <td>0</td>\n",
       "      <td>0</td>\n",
       "      <td>0</td>\n",
       "      <td>7</td>\n",
       "      <td>5</td>\n",
       "      <td>2001</td>\n",
       "      <td>2002</td>\n",
       "      <td>0</td>\n",
       "      <td>0</td>\n",
       "      <td>0.0</td>\n",
       "      <td>0.0</td>\n",
       "      <td>162.0</td>\n",
       "      <td>0</td>\n",
       "      <td>0</td>\n",
       "      <td>0</td>\n",
       "      <td>486.0</td>\n",
       "      <td>0.0</td>\n",
       "      <td>434.0</td>\n",
       "      <td>920.0</td>\n",
       "      <td>0</td>\n",
       "      <td>0</td>\n",
       "      <td>0</td>\n",
       "      <td>0.0</td>\n",
       "      <td>920</td>\n",
       "      <td>866</td>\n",
       "      <td>0</td>\n",
       "      <td>1786</td>\n",
       "      <td>1.0</td>\n",
       "      <td>0.0</td>\n",
       "      <td>2</td>\n",
       "      <td>1</td>\n",
       "      <td>3</td>\n",
       "      <td>1</td>\n",
       "      <td>0.0</td>\n",
       "      <td>6</td>\n",
       "      <td>0.0</td>\n",
       "      <td>1</td>\n",
       "      <td>2.0</td>\n",
       "      <td>608.0</td>\n",
       "      <td>0</td>\n",
       "      <td>0</td>\n",
       "      <td>42</td>\n",
       "      <td>0</td>\n",
       "      <td>0</td>\n",
       "      <td>0</td>\n",
       "      <td>0</td>\n",
       "      <td>0</td>\n",
       "      <td>9</td>\n",
       "      <td>2008</td>\n",
       "      <td>0.0</td>\n",
       "      <td>0</td>\n",
       "      <td>1</td>\n",
       "      <td>0</td>\n",
       "      <td>223500</td>\n",
       "    </tr>\n",
       "    <tr>\n",
       "      <th>4</th>\n",
       "      <td>70</td>\n",
       "      <td>0.0</td>\n",
       "      <td>9550</td>\n",
       "      <td>0</td>\n",
       "      <td>1</td>\n",
       "      <td>0</td>\n",
       "      <td>0.0</td>\n",
       "      <td>2</td>\n",
       "      <td>0</td>\n",
       "      <td>2</td>\n",
       "      <td>0</td>\n",
       "      <td>0</td>\n",
       "      <td>0</td>\n",
       "      <td>0</td>\n",
       "      <td>7</td>\n",
       "      <td>5</td>\n",
       "      <td>1915</td>\n",
       "      <td>1970</td>\n",
       "      <td>0</td>\n",
       "      <td>0</td>\n",
       "      <td>2.0</td>\n",
       "      <td>2.0</td>\n",
       "      <td>0.0</td>\n",
       "      <td>1</td>\n",
       "      <td>0</td>\n",
       "      <td>2</td>\n",
       "      <td>216.0</td>\n",
       "      <td>0.0</td>\n",
       "      <td>540.0</td>\n",
       "      <td>756.0</td>\n",
       "      <td>0</td>\n",
       "      <td>1</td>\n",
       "      <td>0</td>\n",
       "      <td>0.0</td>\n",
       "      <td>961</td>\n",
       "      <td>756</td>\n",
       "      <td>0</td>\n",
       "      <td>1717</td>\n",
       "      <td>1.0</td>\n",
       "      <td>0.0</td>\n",
       "      <td>1</td>\n",
       "      <td>0</td>\n",
       "      <td>3</td>\n",
       "      <td>1</td>\n",
       "      <td>0.0</td>\n",
       "      <td>7</td>\n",
       "      <td>0.0</td>\n",
       "      <td>1</td>\n",
       "      <td>3.0</td>\n",
       "      <td>642.0</td>\n",
       "      <td>0</td>\n",
       "      <td>0</td>\n",
       "      <td>35</td>\n",
       "      <td>272</td>\n",
       "      <td>0</td>\n",
       "      <td>0</td>\n",
       "      <td>0</td>\n",
       "      <td>0</td>\n",
       "      <td>2</td>\n",
       "      <td>2006</td>\n",
       "      <td>0.0</td>\n",
       "      <td>1</td>\n",
       "      <td>1</td>\n",
       "      <td>0</td>\n",
       "      <td>140000</td>\n",
       "    </tr>\n",
       "    <tr>\n",
       "      <th>5</th>\n",
       "      <td>60</td>\n",
       "      <td>0.0</td>\n",
       "      <td>14260</td>\n",
       "      <td>0</td>\n",
       "      <td>1</td>\n",
       "      <td>0</td>\n",
       "      <td>0.0</td>\n",
       "      <td>1</td>\n",
       "      <td>0</td>\n",
       "      <td>3</td>\n",
       "      <td>0</td>\n",
       "      <td>0</td>\n",
       "      <td>0</td>\n",
       "      <td>0</td>\n",
       "      <td>8</td>\n",
       "      <td>5</td>\n",
       "      <td>2000</td>\n",
       "      <td>2000</td>\n",
       "      <td>0</td>\n",
       "      <td>0</td>\n",
       "      <td>0.0</td>\n",
       "      <td>0.0</td>\n",
       "      <td>350.0</td>\n",
       "      <td>0</td>\n",
       "      <td>0</td>\n",
       "      <td>0</td>\n",
       "      <td>655.0</td>\n",
       "      <td>0.0</td>\n",
       "      <td>490.0</td>\n",
       "      <td>1145.0</td>\n",
       "      <td>0</td>\n",
       "      <td>0</td>\n",
       "      <td>0</td>\n",
       "      <td>0.0</td>\n",
       "      <td>1145</td>\n",
       "      <td>1053</td>\n",
       "      <td>0</td>\n",
       "      <td>2198</td>\n",
       "      <td>1.0</td>\n",
       "      <td>0.0</td>\n",
       "      <td>2</td>\n",
       "      <td>1</td>\n",
       "      <td>4</td>\n",
       "      <td>1</td>\n",
       "      <td>0.0</td>\n",
       "      <td>9</td>\n",
       "      <td>0.0</td>\n",
       "      <td>1</td>\n",
       "      <td>3.0</td>\n",
       "      <td>836.0</td>\n",
       "      <td>0</td>\n",
       "      <td>192</td>\n",
       "      <td>84</td>\n",
       "      <td>0</td>\n",
       "      <td>0</td>\n",
       "      <td>0</td>\n",
       "      <td>0</td>\n",
       "      <td>0</td>\n",
       "      <td>12</td>\n",
       "      <td>2008</td>\n",
       "      <td>0.0</td>\n",
       "      <td>0</td>\n",
       "      <td>1</td>\n",
       "      <td>0</td>\n",
       "      <td>250000</td>\n",
       "    </tr>\n",
       "  </tbody>\n",
       "</table>\n",
       "</div>"
      ],
      "text/plain": [
       "    MSSubClass  MSZoning  LotArea  Street  LotShape  LandContour  Utilities  \\\n",
       "Id                                                                            \n",
       "1           60       0.0     8450       0         0            0        0.0   \n",
       "2           20       0.0     9600       0         0            0        0.0   \n",
       "3           60       0.0    11250       0         1            0        0.0   \n",
       "4           70       0.0     9550       0         1            0        0.0   \n",
       "5           60       0.0    14260       0         1            0        0.0   \n",
       "\n",
       "    LotConfig  LandSlope  Neighborhood  Condition1  Condition2  BldgType  \\\n",
       "Id                                                                         \n",
       "1           0          0             0           0           0         0   \n",
       "2           1          0             1           1           0         0   \n",
       "3           0          0             0           0           0         0   \n",
       "4           2          0             2           0           0         0   \n",
       "5           1          0             3           0           0         0   \n",
       "\n",
       "    HouseStyle  OverallQual  OverallCond  YearBuilt  YearRemodAdd  RoofStyle  \\\n",
       "Id                                                                             \n",
       "1            0            7            5       2003          2003          0   \n",
       "2            1            6            8       1976          1976          0   \n",
       "3            0            7            5       2001          2002          0   \n",
       "4            0            7            5       1915          1970          0   \n",
       "5            0            8            5       2000          2000          0   \n",
       "\n",
       "    RoofMatl  Exterior1st  Exterior2nd  MasVnrArea  ExterQual  ExterCond  \\\n",
       "Id                                                                         \n",
       "1          0          0.0          0.0       196.0          0          0   \n",
       "2          0          1.0          1.0         0.0          1          0   \n",
       "3          0          0.0          0.0       162.0          0          0   \n",
       "4          0          2.0          2.0         0.0          1          0   \n",
       "5          0          0.0          0.0       350.0          0          0   \n",
       "\n",
       "    Foundation  BsmtFinSF1  BsmtFinSF2  BsmtUnfSF  TotalBsmtSF  Heating  \\\n",
       "Id                                                                        \n",
       "1            0       706.0         0.0      150.0        856.0        0   \n",
       "2            1       978.0         0.0      284.0       1262.0        0   \n",
       "3            0       486.0         0.0      434.0        920.0        0   \n",
       "4            2       216.0         0.0      540.0        756.0        0   \n",
       "5            0       655.0         0.0      490.0       1145.0        0   \n",
       "\n",
       "    HeatingQC  CentralAir  Electrical  1stFlrSF  2ndFlrSF  LowQualFinSF  \\\n",
       "Id                                                                        \n",
       "1           0           0         0.0       856       854             0   \n",
       "2           0           0         0.0      1262         0             0   \n",
       "3           0           0         0.0       920       866             0   \n",
       "4           1           0         0.0       961       756             0   \n",
       "5           0           0         0.0      1145      1053             0   \n",
       "\n",
       "    GrLivArea  BsmtFullBath  BsmtHalfBath  FullBath  HalfBath  BedroomAbvGr  \\\n",
       "Id                                                                            \n",
       "1        1710           1.0           0.0         2         1             3   \n",
       "2        1262           0.0           1.0         2         0             3   \n",
       "3        1786           1.0           0.0         2         1             3   \n",
       "4        1717           1.0           0.0         1         0             3   \n",
       "5        2198           1.0           0.0         2         1             4   \n",
       "\n",
       "    KitchenAbvGr  KitchenQual  TotRmsAbvGrd  Functional  Fireplaces  \\\n",
       "Id                                                                    \n",
       "1              1          0.0             8         0.0           0   \n",
       "2              1          1.0             6         0.0           1   \n",
       "3              1          0.0             6         0.0           1   \n",
       "4              1          0.0             7         0.0           1   \n",
       "5              1          0.0             9         0.0           1   \n",
       "\n",
       "    GarageCars  GarageArea  PavedDrive  WoodDeckSF  OpenPorchSF  \\\n",
       "Id                                                                \n",
       "1          2.0       548.0           0           0           61   \n",
       "2          2.0       460.0           0         298            0   \n",
       "3          2.0       608.0           0           0           42   \n",
       "4          3.0       642.0           0           0           35   \n",
       "5          3.0       836.0           0         192           84   \n",
       "\n",
       "    EnclosedPorch  3SsnPorch  ScreenPorch  PoolArea  MiscVal  MoSold  YrSold  \\\n",
       "Id                                                                             \n",
       "1               0          0            0         0        0       2    2008   \n",
       "2               0          0            0         0        0       5    2007   \n",
       "3               0          0            0         0        0       9    2008   \n",
       "4             272          0            0         0        0       2    2006   \n",
       "5               0          0            0         0        0      12    2008   \n",
       "\n",
       "    SaleType  SaleCondition  garage  pool  SalePrice  \n",
       "Id                                                    \n",
       "1        0.0              0       1     0     208500  \n",
       "2        0.0              0       1     0     181500  \n",
       "3        0.0              0       1     0     223500  \n",
       "4        0.0              1       1     0     140000  \n",
       "5        0.0              0       1     0     250000  "
      ]
     },
     "execution_count": 12,
     "metadata": {},
     "output_type": "execute_result"
    }
   ],
   "source": [
    "data = new_data.iloc[:len(data),:].join(data[['SalePrice']])\n",
    "test = new_data.iloc[len(data):,:]\n",
    "data.head()"
   ]
  },
  {
   "cell_type": "markdown",
   "id": "d6b59c20",
   "metadata": {
    "papermill": {
     "duration": 0.057492,
     "end_time": "2022-06-13T20:34:34.617171",
     "exception": false,
     "start_time": "2022-06-13T20:34:34.559679",
     "status": "completed"
    },
    "tags": []
   },
   "source": [
    "So firstly let's look at our target value"
   ]
  },
  {
   "cell_type": "code",
   "execution_count": 13,
   "id": "bc280477",
   "metadata": {
    "execution": {
     "iopub.execute_input": "2022-06-13T20:34:34.745651Z",
     "iopub.status.busy": "2022-06-13T20:34:34.744930Z",
     "iopub.status.idle": "2022-06-13T20:34:34.935371Z",
     "shell.execute_reply": "2022-06-13T20:34:34.934651Z",
     "shell.execute_reply.started": "2022-06-13T20:33:30.053058Z"
    },
    "papermill": {
     "duration": 0.260522,
     "end_time": "2022-06-13T20:34:34.935520",
     "exception": false,
     "start_time": "2022-06-13T20:34:34.674998",
     "status": "completed"
    },
    "tags": []
   },
   "outputs": [
    {
     "data": {
      "text/plain": [
       "<AxesSubplot:xlabel='SalePrice'>"
      ]
     },
     "execution_count": 13,
     "metadata": {},
     "output_type": "execute_result"
    },
    {
     "data": {
      "image/png": "[encoded data removed]",
      "text/plain": [
       "<Figure size 432x288 with 1 Axes>"
      ]
     },
     "metadata": {
      "needs_background": "light"
     },
     "output_type": "display_data"
    }
   ],
   "source": [
    "sns.boxplot(x=data['SalePrice'])"
   ]
  },
  {
   "cell_type": "markdown",
   "id": "488b4d5f",
   "metadata": {
    "papermill": {
     "duration": 0.058991,
     "end_time": "2022-06-13T20:34:35.056405",
     "exception": false,
     "start_time": "2022-06-13T20:34:34.997414",
     "status": "completed"
    },
    "tags": []
   },
   "source": [
    "let's look at z-score"
   ]
  },
  {
   "cell_type": "code",
   "execution_count": 14,
   "id": "e7e6344d",
   "metadata": {
    "execution": {
     "iopub.execute_input": "2022-06-13T20:34:35.181423Z",
     "iopub.status.busy": "2022-06-13T20:34:35.180767Z",
     "iopub.status.idle": "2022-06-13T20:34:35.191877Z",
     "shell.execute_reply": "2022-06-13T20:34:35.191255Z",
     "shell.execute_reply.started": "2022-06-13T20:33:30.238845Z"
    },
    "papermill": {
     "duration": 0.076623,
     "end_time": "2022-06-13T20:34:35.192017",
     "exception": false,
     "start_time": "2022-06-13T20:34:35.115394",
     "status": "completed"
    },
    "tags": []
   },
   "outputs": [
    {
     "data": {
      "text/plain": [
       "[Id\n",
       " 58      0.196169\n",
       " 178     0.106040\n",
       " 185     0.678977\n",
       " 349     0.338993\n",
       " 389     0.126913\n",
       " 440     0.893042\n",
       " 473     0.414545\n",
       " 496     1.838704\n",
       " 527     0.616017\n",
       " 591     0.062693\n",
       " 664     0.546761\n",
       " 691     0.502689\n",
       " 769     0.452253\n",
       " 798     0.893042\n",
       " 803     0.101729\n",
       " 898     0.478097\n",
       " 1046    0.520318\n",
       " 1142    0.208761\n",
       " 1169    0.680962\n",
       " 1182    2.664207\n",
       " 1243    0.137520\n",
       " 1373    1.175829\n",
       " Name: SalePrice, dtype: float64]"
      ]
     },
     "execution_count": 14,
     "metadata": {},
     "output_type": "execute_result"
    }
   ],
   "source": [
    "z = np.abs(stats.zscore(data['SalePrice']))\n",
    "outlier_list = [z[i] for i in list(np.where((z > 3) | (z<-3)))]\n",
    "sorted(outlier_list)"
   ]
  },
  {
   "cell_type": "markdown",
   "id": "c31e5a04",
   "metadata": {
    "papermill": {
     "duration": 0.059716,
     "end_time": "2022-06-13T20:34:35.310597",
     "exception": false,
     "start_time": "2022-06-13T20:34:35.250881",
     "status": "completed"
    },
    "tags": []
   },
   "source": [
    "So we have several values that are far from zero, but we need to pay attention at two values that greater than 7. \n",
    "We will consider the values like normal"
   ]
  },
  {
   "cell_type": "markdown",
   "id": "b3493571",
   "metadata": {
    "papermill": {
     "duration": 0.059167,
     "end_time": "2022-06-13T20:34:35.429000",
     "exception": false,
     "start_time": "2022-06-13T20:34:35.369833",
     "status": "completed"
    },
    "tags": []
   },
   "source": [
    "Now let's look at our important values"
   ]
  },
  {
   "cell_type": "code",
   "execution_count": 15,
   "id": "a6eb57f7",
   "metadata": {
    "execution": {
     "iopub.execute_input": "2022-06-13T20:34:35.557620Z",
     "iopub.status.busy": "2022-06-13T20:34:35.551851Z",
     "iopub.status.idle": "2022-06-13T20:34:36.059925Z",
     "shell.execute_reply": "2022-06-13T20:34:36.060460Z",
     "shell.execute_reply.started": "2022-06-13T20:33:30.253170Z"
    },
    "papermill": {
     "duration": 0.571506,
     "end_time": "2022-06-13T20:34:36.060636",
     "exception": false,
     "start_time": "2022-06-13T20:34:35.489130",
     "status": "completed"
    },
    "tags": []
   },
   "outputs": [
    {
     "data": {
      "image/png": "[encoded data removed]",
      "text/plain": [
       "<Figure size 432x288 with 1 Axes>"
      ]
     },
     "metadata": {
      "needs_background": "light"
     },
     "output_type": "display_data"
    }
   ],
   "source": [
    "sns.histplot(data['SalePrice'], bins=50)\n",
    "ax.set_xlabel('')\n",
    "ax.set_title('SalePrice')\n",
    "plt.show()"
   ]
  },
  {
   "cell_type": "markdown",
   "id": "073ce249",
   "metadata": {
    "papermill": {
     "duration": 0.059734,
     "end_time": "2022-06-13T20:34:36.180333",
     "exception": false,
     "start_time": "2022-06-13T20:34:36.120599",
     "status": "completed"
    },
    "tags": []
   },
   "source": [
    "So our target is right-skewed, so it's better to use log transformation"
   ]
  },
  {
   "cell_type": "code",
   "execution_count": 16,
   "id": "b90f2868",
   "metadata": {
    "execution": {
     "iopub.execute_input": "2022-06-13T20:34:36.306956Z",
     "iopub.status.busy": "2022-06-13T20:34:36.306282Z",
     "iopub.status.idle": "2022-06-13T20:34:36.590565Z",
     "shell.execute_reply": "2022-06-13T20:34:36.589854Z",
     "shell.execute_reply.started": "2022-06-13T20:33:30.556551Z"
    },
    "papermill": {
     "duration": 0.350749,
     "end_time": "2022-06-13T20:34:36.590724",
     "exception": false,
     "start_time": "2022-06-13T20:34:36.239975",
     "status": "completed"
    },
    "tags": []
   },
   "outputs": [
    {
     "data": {
      "image/png": "[encoded data removed]",
      "text/plain": [
       "<Figure size 432x288 with 1 Axes>"
      ]
     },
     "metadata": {
      "needs_background": "light"
     },
     "output_type": "display_data"
    }
   ],
   "source": [
    "old_sale = data['SalePrice']\n",
    "data['log_price'] = np.log(data['SalePrice'])\n",
    "sns.histplot(data['log_price'], bins=50)\n",
    "ax.set_xlabel('')\n",
    "ax.set_title('log_price')\n",
    "plt.show()"
   ]
  },
  {
   "cell_type": "markdown",
   "id": "0f08a04d",
   "metadata": {
    "papermill": {
     "duration": 0.061727,
     "end_time": "2022-06-13T20:34:36.714981",
     "exception": false,
     "start_time": "2022-06-13T20:34:36.653254",
     "status": "completed"
    },
    "tags": []
   },
   "source": [
    "Much better, but what about other features"
   ]
  },
  {
   "cell_type": "code",
   "execution_count": 17,
   "id": "a3fe7a8b",
   "metadata": {
    "execution": {
     "iopub.execute_input": "2022-06-13T20:34:36.851429Z",
     "iopub.status.busy": "2022-06-13T20:34:36.850472Z",
     "iopub.status.idle": "2022-06-13T20:34:41.630765Z",
     "shell.execute_reply": "2022-06-13T20:34:41.631432Z",
     "shell.execute_reply.started": "2022-06-13T20:33:30.849334Z"
    },
    "papermill": {
     "duration": 4.853879,
     "end_time": "2022-06-13T20:34:41.631641",
     "exception": false,
     "start_time": "2022-06-13T20:34:36.777762",
     "status": "completed"
    },
    "tags": []
   },
   "outputs": [
    {
     "data": {
      "image/png": "[encoded data removed]",
      "text/plain": [
       "<Figure size 432x288 with 1 Axes>"
      ]
     },
     "metadata": {
      "needs_background": "light"
     },
     "output_type": "display_data"
    },
    {
     "data": {
      "image/png": "[encoded data removed]",
      "text/plain": [
       "<Figure size 432x288 with 1 Axes>"
      ]
     },
     "metadata": {
      "needs_background": "light"
     },
     "output_type": "display_data"
    },
    {
     "data": {
      "image/png": "[encoded data removed]",
      "text/plain": [
       "<Figure size 432x288 with 1 Axes>"
      ]
     },
     "metadata": {
      "needs_background": "light"
     },
     "output_type": "display_data"
    },
    {
     "data": {
      "image/png": "[encoded data removed]",
      "text/plain": [
       "<Figure size 432x288 with 1 Axes>"
      ]
     },
     "metadata": {
      "needs_background": "light"
     },
     "output_type": "display_data"
    },
    {
     "data": {
      "image/png": "[encoded data removed]",
      "text/plain": [
       "<Figure size 432x288 with 1 Axes>"
      ]
     },
     "metadata": {
      "needs_background": "light"
     },
     "output_type": "display_data"
    },
    {
     "data": {
      "image/png": "[encoded data removed]",
      "text/plain": [
       "<Figure size 432x288 with 1 Axes>"
      ]
     },
     "metadata": {
      "needs_background": "light"
     },
     "output_type": "display_data"
    },
    {
     "data": {
      "image/png": "[encoded data removed]",
      "text/plain": [
       "<Figure size 432x288 with 1 Axes>"
      ]
     },
     "metadata": {
      "needs_background": "light"
     },
     "output_type": "display_data"
    },
    {
     "data": {
      "image/png": "[encoded data removed]",
      "text/plain": [
       "<Figure size 432x288 with 1 Axes>"
      ]
     },
     "metadata": {
      "needs_background": "light"
     },
     "output_type": "display_data"
    },
    {
     "data": {
      "image/png": "[encoded data removed]",
      "text/plain": [
       "<Figure size 432x288 with 1 Axes>"
      ]
     },
     "metadata": {
      "needs_background": "light"
     },
     "output_type": "display_data"
    },
    {
     "data": {
      "image/png": "[encoded data removed]",
      "text/plain": [
       "<Figure size 432x288 with 1 Axes>"
      ]
     },
     "metadata": {
      "needs_background": "light"
     },
     "output_type": "display_data"
    },
    {
     "data": {
      "image/png": "[encoded data removed]",
      "text/plain": [
       "<Figure size 432x288 with 1 Axes>"
      ]
     },
     "metadata": {
      "needs_background": "light"
     },
     "output_type": "display_data"
    },
    {
     "data": {
      "image/png": "[encoded data removed]",
      "text/plain": [
       "<Figure size 432x288 with 1 Axes>"
      ]
     },
     "metadata": {
      "needs_background": "light"
     },
     "output_type": "display_data"
    },
    {
     "data": {
      "image/png": "[encoded data removed]",
      "text/plain": [
       "<Figure size 432x288 with 1 Axes>"
      ]
     },
     "metadata": {
      "needs_background": "light"
     },
     "output_type": "display_data"
    },
    {
     "data": {
      "image/png": "[encoded data removed]",
      "text/plain": [
       "<Figure size 432x288 with 1 Axes>"
      ]
     },
     "metadata": {
      "needs_background": "light"
     },
     "output_type": "display_data"
    },
    {
     "data": {
      "image/png": "[encoded data removed]",
      "text/plain": [
       "<Figure size 432x288 with 1 Axes>"
      ]
     },
     "metadata": {
      "needs_background": "light"
     },
     "output_type": "display_data"
    },
    {
     "data": {
      "image/png": "[encoded data removed]",
      "text/plain": [
       "<Figure size 432x288 with 1 Axes>"
      ]
     },
     "metadata": {
      "needs_background": "light"
     },
     "output_type": "display_data"
    }
   ],
   "source": [
    "continuous_val = ['LotArea', 'MasVnrArea', 'BsmtFinSF2','BsmtFinSF1', 'TotalBsmtSF', '1stFlrSF', '2ndFlrSF', 'LowQualFinSF', 'GrLivArea', 'GarageArea', 'WoodDeckSF', 'OpenPorchSF', 'EnclosedPorch', '3SsnPorch', 'ScreenPorch', 'PoolArea']\n",
    "for i in continuous_val:\n",
    "    if i in list(new_data.columns):\n",
    "        sns.histplot(new_data[i], bins=50)\n",
    "        ax.set_xlabel('')\n",
    "        ax.set_title('histogram of feature: ' + str(i))\n",
    "        plt.show()"
   ]
  },
  {
   "cell_type": "markdown",
   "id": "a2b3a670",
   "metadata": {
    "papermill": {
     "duration": 0.073763,
     "end_time": "2022-06-13T20:34:41.783059",
     "exception": false,
     "start_time": "2022-06-13T20:34:41.709296",
     "status": "completed"
    },
    "tags": []
   },
   "source": [
    "Most of continuous data also rig-skewed, so I'll use log transformation"
   ]
  },
  {
   "cell_type": "code",
   "execution_count": 18,
   "id": "a060ecc8",
   "metadata": {
    "execution": {
     "iopub.execute_input": "2022-06-13T20:34:41.968373Z",
     "iopub.status.busy": "2022-06-13T20:34:41.965561Z",
     "iopub.status.idle": "2022-06-13T20:34:46.760593Z",
     "shell.execute_reply": "2022-06-13T20:34:46.759729Z",
     "shell.execute_reply.started": "2022-06-13T20:33:35.521530Z"
    },
    "papermill": {
     "duration": 4.903773,
     "end_time": "2022-06-13T20:34:46.760738",
     "exception": false,
     "start_time": "2022-06-13T20:34:41.856965",
     "status": "completed"
    },
    "tags": []
   },
   "outputs": [
    {
     "data": {
      "image/png": "[encoded data removed]",
      "text/plain": [
       "<Figure size 432x288 with 1 Axes>"
      ]
     },
     "metadata": {
      "needs_background": "light"
     },
     "output_type": "display_data"
    },
    {
     "data": {
      "image/png": "[encoded data removed]",
      "text/plain": [
       "<Figure size 432x288 with 1 Axes>"
      ]
     },
     "metadata": {
      "needs_background": "light"
     },
     "output_type": "display_data"
    },
    {
     "data": {
      "image/png": "[encoded data removed]",
      "text/plain": [
       "<Figure size 432x288 with 1 Axes>"
      ]
     },
     "metadata": {
      "needs_background": "light"
     },
     "output_type": "display_data"
    },
    {
     "data": {
      "image/png": "[encoded data removed]",
      "text/plain": [
       "<Figure size 432x288 with 1 Axes>"
      ]
     },
     "metadata": {
      "needs_background": "light"
     },
     "output_type": "display_data"
    },
    {
     "data": {
      "image/png": "[encoded data removed]",
      "text/plain": [
       "<Figure size 432x288 with 1 Axes>"
      ]
     },
     "metadata": {
      "needs_background": "light"
     },
     "output_type": "display_data"
    },
    {
     "data": {
      "image/png": "[encoded data removed]",
      "text/plain": [
       "<Figure size 432x288 with 1 Axes>"
      ]
     },
     "metadata": {
      "needs_background": "light"
     },
     "output_type": "display_data"
    },
    {
     "data": {
      "image/png": "[encoded data removed]",
      "text/plain": [
       "<Figure size 432x288 with 1 Axes>"
      ]
     },
     "metadata": {
      "needs_background": "light"
     },
     "output_type": "display_data"
    },
    {
     "data": {
      "image/png": "[encoded data removed]",
      "text/plain": [
       "<Figure size 432x288 with 1 Axes>"
      ]
     },
     "metadata": {
      "needs_background": "light"
     },
     "output_type": "display_data"
    },
    {
     "data": {
      "image/png": "[encoded data removed]",
      "text/plain": [
       "<Figure size 432x288 with 1 Axes>"
      ]
     },
     "metadata": {
      "needs_background": "light"
     },
     "output_type": "display_data"
    },
    {
     "data": {
      "image/png": "[encoded data removed]",
      "text/plain": [
       "<Figure size 432x288 with 1 Axes>"
      ]
     },
     "metadata": {
      "needs_background": "light"
     },
     "output_type": "display_data"
    },
    {
     "data": {
      "image/png": "[encoded data removed]",
      "text/plain": [
       "<Figure size 432x288 with 1 Axes>"
      ]
     },
     "metadata": {
      "needs_background": "light"
     },
     "output_type": "display_data"
    },
    {
     "data": {
      "image/png": "[encoded data removed]",
      "text/plain": [
       "<Figure size 432x288 with 1 Axes>"
      ]
     },
     "metadata": {
      "needs_background": "light"
     },
     "output_type": "display_data"
    },
    {
     "data": {
      "image/png": "[encoded data removed]",
      "text/plain": [
       "<Figure size 432x288 with 1 Axes>"
      ]
     },
     "metadata": {
      "needs_background": "light"
     },
     "output_type": "display_data"
    },
    {
     "data": {
      "image/png": "[encoded data removed]",
      "text/plain": [
       "<Figure size 432x288 with 1 Axes>"
      ]
     },
     "metadata": {
      "needs_background": "light"
     },
     "output_type": "display_data"
    },
    {
     "data": {
      "image/png": "[encoded data removed]",
      "text/plain": [
       "<Figure size 432x288 with 1 Axes>"
      ]
     },
     "metadata": {
      "needs_background": "light"
     },
     "output_type": "display_data"
    },
    {
     "data": {
      "image/png": "[encoded data removed]",
      "text/plain": [
       "<Figure size 432x288 with 1 Axes>"
      ]
     },
     "metadata": {
      "needs_background": "light"
     },
     "output_type": "display_data"
    }
   ],
   "source": [
    "for i in continuous_val:\n",
    "    if i in list(new_data.columns):\n",
    "        new_data[i] = np.log(new_data[i]+1)\n",
    "        sns.histplot(new_data[i], bins=50)\n",
    "        ax.set_xlabel('')\n",
    "        ax.set_title('histogram of feature: ' + str(i))\n",
    "        plt.show()"
   ]
  },
  {
   "cell_type": "markdown",
   "id": "54f7c92e",
   "metadata": {
    "papermill": {
     "duration": 0.087777,
     "end_time": "2022-06-13T20:34:46.941019",
     "exception": false,
     "start_time": "2022-06-13T20:34:46.853242",
     "status": "completed"
    },
    "tags": []
   },
   "source": [
    "- GrivArea"
   ]
  },
  {
   "cell_type": "code",
   "execution_count": 19,
   "id": "b89c2583",
   "metadata": {
    "execution": {
     "iopub.execute_input": "2022-06-13T20:34:47.121610Z",
     "iopub.status.busy": "2022-06-13T20:34:47.120889Z",
     "iopub.status.idle": "2022-06-13T20:34:47.346290Z",
     "shell.execute_reply": "2022-06-13T20:34:47.346817Z",
     "shell.execute_reply.started": "2022-06-13T20:33:40.273488Z"
    },
    "papermill": {
     "duration": 0.319202,
     "end_time": "2022-06-13T20:34:47.347021",
     "exception": false,
     "start_time": "2022-06-13T20:34:47.027819",
     "status": "completed"
    },
    "tags": []
   },
   "outputs": [
    {
     "data": {
      "image/png": "[encoded data removed]",
      "text/plain": [
       "<Figure size 1152x576 with 1 Axes>"
      ]
     },
     "metadata": {
      "needs_background": "light"
     },
     "output_type": "display_data"
    }
   ],
   "source": [
    "fig, ax = plt.subplots(figsize=(16,8))\n",
    "ax.scatter(data['GrLivArea'], data['SalePrice'])\n",
    "ax.set_xlabel('GrLivArea')\n",
    "ax.set_ylabel('SalePrice')\n",
    "plt.show()"
   ]
  },
  {
   "cell_type": "markdown",
   "id": "fd5b61e7",
   "metadata": {
    "papermill": {
     "duration": 0.088244,
     "end_time": "2022-06-13T20:34:47.524362",
     "exception": false,
     "start_time": "2022-06-13T20:34:47.436118",
     "status": "completed"
    },
    "tags": []
   },
   "source": [
    "We have several points that are far away, but only two not have the same direction. Maybe these points describe some plot area, so they have big square and cheap.So it's our outliers and we can delete them.-\n",
    "About two points that are high as we see they are our outliers from target value. But they have the same direction as others, so maybe these points describe some huge house or villa... So we will keep them"
   ]
  },
  {
   "cell_type": "code",
   "execution_count": 20,
   "id": "ba926f5a",
   "metadata": {
    "execution": {
     "iopub.execute_input": "2022-06-13T20:34:47.707659Z",
     "iopub.status.busy": "2022-06-13T20:34:47.706929Z",
     "iopub.status.idle": "2022-06-13T20:34:47.717996Z",
     "shell.execute_reply": "2022-06-13T20:34:47.718549Z",
     "shell.execute_reply.started": "2022-06-13T20:33:40.756440Z"
    },
    "papermill": {
     "duration": 0.103555,
     "end_time": "2022-06-13T20:34:47.718768",
     "exception": false,
     "start_time": "2022-06-13T20:34:47.615213",
     "status": "completed"
    },
    "tags": []
   },
   "outputs": [],
   "source": [
    "data.sort_values(by = 'GrLivArea', ascending = False)[:2]\n",
    "new_data = new_data.drop(1299)\n",
    "new_data = new_data.drop(524)"
   ]
  },
  {
   "cell_type": "markdown",
   "id": "08bb08ff",
   "metadata": {
    "papermill": {
     "duration": 0.1088,
     "end_time": "2022-06-13T20:34:47.917248",
     "exception": false,
     "start_time": "2022-06-13T20:34:47.808448",
     "status": "completed"
    },
    "tags": []
   },
   "source": [
    "* TotalBsmtSF"
   ]
  },
  {
   "cell_type": "code",
   "execution_count": 21,
   "id": "0e8f7f73",
   "metadata": {
    "execution": {
     "iopub.execute_input": "2022-06-13T20:34:48.117780Z",
     "iopub.status.busy": "2022-06-13T20:34:48.105269Z",
     "iopub.status.idle": "2022-06-13T20:34:48.349875Z",
     "shell.execute_reply": "2022-06-13T20:34:48.349242Z",
     "shell.execute_reply.started": "2022-06-13T20:33:40.770566Z"
    },
    "papermill": {
     "duration": 0.33558,
     "end_time": "2022-06-13T20:34:48.350017",
     "exception": false,
     "start_time": "2022-06-13T20:34:48.014437",
     "status": "completed"
    },
    "tags": []
   },
   "outputs": [
    {
     "data": {
      "image/png": "[encoded data removed]",
      "text/plain": [
       "<Figure size 1152x576 with 1 Axes>"
      ]
     },
     "metadata": {
      "needs_background": "light"
     },
     "output_type": "display_data"
    }
   ],
   "source": [
    "fig, ax = plt.subplots(figsize=(16,8))\n",
    "ax.scatter(data['TotalBsmtSF'], data['SalePrice'])\n",
    "ax.set_xlabel('TotalBsmtSF')\n",
    "ax.set_ylabel('SalePrice')\n",
    "plt.show()"
   ]
  },
  {
   "cell_type": "markdown",
   "id": "8493c1d1",
   "metadata": {
    "papermill": {
     "duration": 0.088575,
     "end_time": "2022-06-13T20:34:48.527474",
     "exception": false,
     "start_time": "2022-06-13T20:34:48.438899",
     "status": "completed"
    },
    "tags": []
   },
   "source": [
    "We have several points that are far away from others, but it seems that they have the same directions, so we can leave them"
   ]
  },
  {
   "cell_type": "markdown",
   "id": "5127567b",
   "metadata": {
    "papermill": {
     "duration": 0.08855,
     "end_time": "2022-06-13T20:34:48.705312",
     "exception": false,
     "start_time": "2022-06-13T20:34:48.616762",
     "status": "completed"
    },
    "tags": []
   },
   "source": [
    "And what about models?!"
   ]
  },
  {
   "cell_type": "markdown",
   "id": "3b60de0e",
   "metadata": {
    "papermill": {
     "duration": 0.089081,
     "end_time": "2022-06-13T20:34:48.883333",
     "exception": false,
     "start_time": "2022-06-13T20:34:48.794252",
     "status": "completed"
    },
    "tags": []
   },
   "source": [
    "Baseline Model"
   ]
  },
  {
   "cell_type": "code",
   "execution_count": 22,
   "id": "1ad340eb",
   "metadata": {
    "execution": {
     "iopub.execute_input": "2022-06-13T20:34:49.073974Z",
     "iopub.status.busy": "2022-06-13T20:34:49.073311Z",
     "iopub.status.idle": "2022-06-13T20:34:49.110440Z",
     "shell.execute_reply": "2022-06-13T20:34:49.110947Z",
     "shell.execute_reply.started": "2022-06-13T20:33:40.993470Z"
    },
    "papermill": {
     "duration": 0.136762,
     "end_time": "2022-06-13T20:34:49.111161",
     "exception": false,
     "start_time": "2022-06-13T20:34:48.974399",
     "status": "completed"
    },
    "tags": []
   },
   "outputs": [],
   "source": [
    "data = new_data.iloc[:len(data)-2,:].join(data[['log_price']])\n",
    "test = new_data.iloc[len(data):,:]\n",
    "X = data.iloc[:, :-1]\n",
    "y = data['log_price']\n",
    "X_train, X_test, y_train, y_test = train_test_split(X, y, test_size=0.2, random_state=42)\n",
    "scaler = StandardScaler()\n",
    "test_scaler = scaler.fit_transform(test)\n",
    "X_scaler = scaler.fit_transform(X)\n",
    "X_train_scaler = scaler.fit_transform(X_train)\n",
    "X_test_scaler = scaler.fit_transform(X_test)"
   ]
  },
  {
   "cell_type": "code",
   "execution_count": 23,
   "id": "d5343b48",
   "metadata": {
    "execution": {
     "iopub.execute_input": "2022-06-13T20:34:49.292656Z",
     "iopub.status.busy": "2022-06-13T20:34:49.291939Z",
     "iopub.status.idle": "2022-06-13T20:34:49.399377Z",
     "shell.execute_reply": "2022-06-13T20:34:49.400199Z",
     "shell.execute_reply.started": "2022-06-13T20:33:41.034158Z"
    },
    "papermill": {
     "duration": 0.200938,
     "end_time": "2022-06-13T20:34:49.400488",
     "exception": false,
     "start_time": "2022-06-13T20:34:49.199550",
     "status": "completed"
    },
    "tags": []
   },
   "outputs": [
    {
     "name": "stdout",
     "output_type": "stream",
     "text": [
      "Mean absolute error = 0.08\n",
      "Mean squared error = 0.01\n",
      "Median absolute error = 0.06\n",
      "Explain variance score = 0.91\n",
      "R2 score = 0.9131199861272532\n"
     ]
    }
   ],
   "source": [
    "regression=LinearRegression()\n",
    "regression.fit(X_train,y_train)\n",
    "print(\"Mean absolute error =\", round(sm.mean_absolute_error(y_train, regression.predict(X_train)), 2)) \n",
    "print(\"Mean squared error =\", round(sm.mean_squared_error(y_train, regression.predict(X_train)), 2))  \n",
    "print(\"Median absolute error =\", round(sm.median_absolute_error(y_train, regression.predict(X_train)), 2)) \n",
    "print(\"Explain variance score =\", round(sm.explained_variance_score(y_train, regression.predict(X_train)), 2)) \n",
    "print(\"R2 score =\", sm.r2_score(y_train, regression.predict(X_train)))"
   ]
  },
  {
   "cell_type": "markdown",
   "id": "8c16ad01",
   "metadata": {
    "papermill": {
     "duration": 0.08798,
     "end_time": "2022-06-13T20:34:49.638235",
     "exception": false,
     "start_time": "2022-06-13T20:34:49.550255",
     "status": "completed"
    },
    "tags": []
   },
   "source": [
    "I offer to start with Ridge Reggression. But as we know we need to standardize variables before using Ridge Regression. So now let's do it and look at result."
   ]
  },
  {
   "cell_type": "code",
   "execution_count": 24,
   "id": "ac1a50fa",
   "metadata": {
    "execution": {
     "iopub.execute_input": "2022-06-13T20:34:49.826966Z",
     "iopub.status.busy": "2022-06-13T20:34:49.825236Z",
     "iopub.status.idle": "2022-06-13T20:34:49.936614Z",
     "shell.execute_reply": "2022-06-13T20:34:49.937615Z",
     "shell.execute_reply.started": "2022-06-13T20:33:41.085086Z"
    },
    "papermill": {
     "duration": 0.210829,
     "end_time": "2022-06-13T20:34:49.937876",
     "exception": false,
     "start_time": "2022-06-13T20:34:49.727047",
     "status": "completed"
    },
    "tags": []
   },
   "outputs": [
    {
     "name": "stdout",
     "output_type": "stream",
     "text": [
      "alfa parameter is 1\n",
      "Mean absolute error = 0.0833707465192898\n",
      "Mean squared error = 0.01370508850951829\n",
      "Median absolute error = 0.06024199039869771\n",
      "Explain variance score = 0.9129437258923461\n",
      "R2 score = 0.9129437258923461\n",
      "alfa parameter is 0.1\n",
      "Mean absolute error = 0.08330375807111239\n",
      "Mean squared error = 0.013680961048718259\n",
      "Median absolute error = 0.060446601272142075\n",
      "Explain variance score = 0.9130969862554199\n",
      "R2 score = 0.91309698625542\n",
      "alfa parameter is 0.001\n",
      "Mean absolute error = 0.08327880771914879\n",
      "Mean squared error = 0.0136773409430085\n",
      "Median absolute error = 0.06030438913619118\n",
      "Explain variance score = 0.9131199815768108\n",
      "R2 score = 0.9131199815768108\n",
      "alfa parameter is 0.005\n",
      "Mean absolute error = 0.08327986914117576\n",
      "Mean squared error = 0.013677357561437694\n",
      "Median absolute error = 0.06029592914967985\n",
      "Explain variance score = 0.9131198760146668\n",
      "R2 score = 0.9131198760146668\n",
      "alfa parameter is 0.0005\n",
      "Mean absolute error = 0.08327867259999552\n",
      "Mean squared error = 0.01367734040647148\n",
      "Median absolute error = 0.06030597124716941\n",
      "Explain variance score = 0.9131199849849548\n",
      "R2 score = 0.9131199849849548\n"
     ]
    }
   ],
   "source": [
    "for i in [1, 0.1, 0.001, 0.005, 0.0005]:\n",
    "    ridge = Ridge(alpha=i)\n",
    "    ridge.fit(X_train_scaler, y_train)\n",
    "    print('alfa parameter is', i)\n",
    "    print(\"Mean absolute error =\", sm.mean_absolute_error(y_train, ridge.predict(X_train_scaler))) \n",
    "    print(\"Mean squared error =\", sm.mean_squared_error(y_train, ridge.predict(X_train_scaler)))\n",
    "    print(\"Median absolute error =\", sm.median_absolute_error(y_train, ridge.predict(X_train_scaler))) \n",
    "    print(\"Explain variance score =\", sm.explained_variance_score(y_train, ridge.predict(X_train_scaler))) \n",
    "    print(\"R2 score =\", sm.r2_score(y_train, ridge.predict(X_train_scaler)))"
   ]
  },
  {
   "cell_type": "markdown",
   "id": "a2b34cf2",
   "metadata": {
    "papermill": {
     "duration": 0.08926,
     "end_time": "2022-06-13T20:34:50.196910",
     "exception": false,
     "start_time": "2022-06-13T20:34:50.107650",
     "status": "completed"
    },
    "tags": []
   },
   "source": [
    "The default value has the best performance. But as we have only a few variables that have large effect on our target values, so now let's try Lasso Regression but also with standardized variables"
   ]
  },
  {
   "cell_type": "code",
   "execution_count": 25,
   "id": "c6c0b588",
   "metadata": {
    "execution": {
     "iopub.execute_input": "2022-06-13T20:34:50.384441Z",
     "iopub.status.busy": "2022-06-13T20:34:50.383755Z",
     "iopub.status.idle": "2022-06-13T20:34:50.518307Z",
     "shell.execute_reply": "2022-06-13T20:34:50.519119Z",
     "shell.execute_reply.started": "2022-06-13T20:33:41.160445Z"
    },
    "papermill": {
     "duration": 0.232646,
     "end_time": "2022-06-13T20:34:50.519378",
     "exception": false,
     "start_time": "2022-06-13T20:34:50.286732",
     "status": "completed"
    },
    "tags": []
   },
   "outputs": [
    {
     "name": "stdout",
     "output_type": "stream",
     "text": [
      "alfa parameter is 1\n",
      "Mean absolute error = 0.30648000257705527\n",
      "Mean squared error = 0.15742792406404332\n",
      "Median absolute error = 0.2480654104058324\n",
      "Explain variance score = 2.220446049250313e-16\n",
      "R2 score = 0.0\n",
      "alfa parameter is 0.1\n",
      "Mean absolute error = 0.15319482783237487\n",
      "Mean squared error = 0.04414161599532091\n",
      "Median absolute error = 0.1119636412427516\n",
      "Explain variance score = 0.7196074568234563\n",
      "R2 score = 0.7196074568234563\n",
      "alfa parameter is 0.001\n",
      "Mean absolute error = 0.0835640574836718\n",
      "Mean squared error = 0.0138255665881394\n",
      "Median absolute error = 0.0616951110277526\n",
      "Explain variance score = 0.912178435494614\n",
      "R2 score = 0.912178435494614\n",
      "alfa parameter is 0.005\n",
      "Mean absolute error = 0.0863287620928613\n",
      "Mean squared error = 0.01471321396631884\n",
      "Median absolute error = 0.06228800928750555\n",
      "Explain variance score = 0.9065399988356999\n",
      "R2 score = 0.9065399988356999\n",
      "alfa parameter is 0.0005\n",
      "Mean absolute error = 0.08348797946978133\n",
      "Mean squared error = 0.013760875039789679\n",
      "Median absolute error = 0.061151413553293565\n",
      "Explain variance score = 0.9125893635350765\n",
      "R2 score = 0.9125893635350765\n"
     ]
    }
   ],
   "source": [
    "for i in [1, 0.1, 0.001, 0.005, 0.0005]:\n",
    "    lasso = Lasso(alpha=i)\n",
    "    lasso.fit(X_train_scaler, y_train)\n",
    "    print('alfa parameter is', i)\n",
    "    print(\"Mean absolute error =\", sm.mean_absolute_error(y_train, lasso.predict(X_train_scaler))) \n",
    "    print(\"Mean squared error =\", sm.mean_squared_error(y_train, lasso.predict(X_train_scaler)))  \n",
    "    print(\"Median absolute error =\", sm.median_absolute_error(y_train, lasso.predict(X_train_scaler))) \n",
    "    print(\"Explain variance score =\", sm.explained_variance_score(y_train, lasso.predict(X_train_scaler))) \n",
    "    print(\"R2 score =\", sm.r2_score(y_train, lasso.predict(X_train_scaler)))"
   ]
  },
  {
   "cell_type": "markdown",
   "id": "a9e559d9",
   "metadata": {
    "papermill": {
     "duration": 0.090187,
     "end_time": "2022-06-13T20:34:50.772537",
     "exception": false,
     "start_time": "2022-06-13T20:34:50.682350",
     "status": "completed"
    },
    "tags": []
   },
   "source": [
    "Not bad, but we see that results almost the same. So now let's try a combination of L1 and L2 regularization"
   ]
  },
  {
   "cell_type": "code",
   "execution_count": 26,
   "id": "0251a61b",
   "metadata": {
    "execution": {
     "iopub.execute_input": "2022-06-13T20:34:50.962339Z",
     "iopub.status.busy": "2022-06-13T20:34:50.961617Z",
     "iopub.status.idle": "2022-06-13T20:34:51.303296Z",
     "shell.execute_reply": "2022-06-13T20:34:51.304213Z",
     "shell.execute_reply.started": "2022-06-13T20:33:41.257478Z"
    },
    "papermill": {
     "duration": 0.442176,
     "end_time": "2022-06-13T20:34:51.304550",
     "exception": false,
     "start_time": "2022-06-13T20:34:50.862374",
     "status": "completed"
    },
    "tags": []
   },
   "outputs": [
    {
     "name": "stdout",
     "output_type": "stream",
     "text": [
      "alfa parameter is 0.1 l1_ratio parameter is 0.2\n",
      "Mean absolute error = 0.10321023190114528\n",
      "Mean squared error = 0.02062786784195423\n",
      "Median absolute error = 0.07404160983113073\n",
      "Explain variance score = 0.8776997094993253\n",
      "R2 score = 0.8776365460282022\n",
      "alfa parameter is 0.1 l1_ratio parameter is 0.4\n",
      "Mean absolute error = 0.11464142308225211\n",
      "Mean squared error = 0.025917886430881776\n",
      "Median absolute error = 0.07907373384665561\n",
      "Explain variance score = 0.8463195905711023\n",
      "R2 score = 0.8462564270999792\n",
      "alfa parameter is 0.1 l1_ratio parameter is 0.6\n",
      "Mean absolute error = 0.12894242611678794\n",
      "Mean squared error = 0.032595489246063335\n",
      "Median absolute error = 0.08938680519573605\n",
      "Explain variance score = 0.8067083931861957\n",
      "R2 score = 0.8066452297150726\n",
      "alfa parameter is 0.1 l1_ratio parameter is 0.8\n",
      "Mean absolute error = 0.14294095196287385\n",
      "Mean squared error = 0.03930804851219857\n",
      "Median absolute error = 0.10521396729995391\n",
      "Explain variance score = 0.7668898359272556\n",
      "R2 score = 0.7668266724561325\n",
      "alfa parameter is 0.001 l1_ratio parameter is 0.2\n",
      "Mean absolute error = 0.09150909869967026\n",
      "Mean squared error = 0.015787179760593073\n",
      "Median absolute error = 0.06917239779827433\n",
      "Explain variance score = 0.9064144229042057\n",
      "R2 score = 0.9063512594330827\n",
      "alfa parameter is 0.001 l1_ratio parameter is 0.4\n",
      "Mean absolute error = 0.09131078433222148\n",
      "Mean squared error = 0.015719140993589\n",
      "Median absolute error = 0.06944328859333115\n",
      "Explain variance score = 0.9068180253801567\n",
      "R2 score = 0.9067548619090336\n",
      "alfa parameter is 0.001 l1_ratio parameter is 0.6\n",
      "Mean absolute error = 0.09110032407232443\n",
      "Mean squared error = 0.015663464626225983\n",
      "Median absolute error = 0.07105291575767847\n",
      "Explain variance score = 0.9071482947355423\n",
      "R2 score = 0.9070851312644193\n",
      "alfa parameter is 0.001 l1_ratio parameter is 0.8\n",
      "Mean absolute error = 0.09092589852245934\n",
      "Mean squared error = 0.015606222037674426\n",
      "Median absolute error = 0.0714207464584442\n",
      "Explain variance score = 0.907487854834682\n",
      "R2 score = 0.9074246913635589\n",
      "alfa parameter is 0.0005 l1_ratio parameter is 0.2\n",
      "Mean absolute error = 0.09155118096244276\n",
      "Mean squared error = 0.015826861280989493\n",
      "Median absolute error = 0.07012054228732723\n",
      "Explain variance score = 0.9061790341606012\n",
      "R2 score = 0.9061158706894782\n",
      "alfa parameter is 0.0005 l1_ratio parameter is 0.4\n",
      "Mean absolute error = 0.09148917871017338\n",
      "Mean squared error = 0.015779079473372145\n",
      "Median absolute error = 0.06925352534674367\n",
      "Explain variance score = 0.9064624733925117\n",
      "R2 score = 0.9063993099213886\n",
      "alfa parameter is 0.0005 l1_ratio parameter is 0.6\n",
      "Mean absolute error = 0.09139681804135795\n",
      "Mean squared error = 0.015740441729547146\n",
      "Median absolute error = 0.06902523643073355\n",
      "Explain variance score = 0.906691670507033\n",
      "R2 score = 0.90662850703591\n",
      "alfa parameter is 0.0005 l1_ratio parameter is 0.8\n",
      "Mean absolute error = 0.09128941839920973\n",
      "Mean squared error = 0.01571039103470512\n",
      "Median absolute error = 0.06948756669168965\n",
      "Explain variance score = 0.9068699296874436\n",
      "R2 score = 0.9068067662163205\n"
     ]
    }
   ],
   "source": [
    "for i in [0.1, 0.001, 0.0005]:\n",
    "    for j in [.2,.4,.6, 0.8]:\n",
    "        net = ElasticNet(alpha=i,l1_ratio=j)\n",
    "        net.fit(X_train_scaler, y_train)\n",
    "        print('alfa parameter is', i, 'l1_ratio parameter is', j)\n",
    "        print(\"Mean absolute error =\", sm.mean_absolute_error(y_test, net.predict(X_test_scaler))) \n",
    "        print(\"Mean squared error =\", sm.mean_squared_error(y_test, net.predict(X_test_scaler))) \n",
    "        print(\"Median absolute error =\", sm.median_absolute_error(y_test, net.predict(X_test_scaler))) \n",
    "        print(\"Explain variance score =\", sm.explained_variance_score(y_test, net.predict(X_test_scaler)))\n",
    "        print(\"R2 score =\", sm.r2_score(y_test, net.predict(X_test_scaler)))"
   ]
  },
  {
   "cell_type": "markdown",
   "id": "a2b1d9d3",
   "metadata": {
    "papermill": {
     "duration": 0.091229,
     "end_time": "2022-06-13T20:34:51.567191",
     "exception": false,
     "start_time": "2022-06-13T20:34:51.475962",
     "status": "completed"
    },
    "tags": []
   },
   "source": [
    "We have the best result with Ridge model when alpha = 0.0005. So now let's predict our test data"
   ]
  },
  {
   "cell_type": "code",
   "execution_count": 27,
   "id": "a768dba7",
   "metadata": {
    "execution": {
     "iopub.execute_input": "2022-06-13T20:34:51.756374Z",
     "iopub.status.busy": "2022-06-13T20:34:51.755683Z",
     "iopub.status.idle": "2022-06-13T20:34:51.784171Z",
     "shell.execute_reply": "2022-06-13T20:34:51.785136Z",
     "shell.execute_reply.started": "2022-06-13T20:33:41.507321Z"
    },
    "papermill": {
     "duration": 0.127484,
     "end_time": "2022-06-13T20:34:51.785398",
     "exception": false,
     "start_time": "2022-06-13T20:34:51.657914",
     "status": "completed"
    },
    "tags": []
   },
   "outputs": [
    {
     "name": "stdout",
     "output_type": "stream",
     "text": [
      "Mean absolute error = 0.08416784606661977\n",
      "Mean squared error = 0.013849862122345126\n",
      "Median absolute error = 0.06270849081444574\n",
      "Explain variance score = 0.913255567948238\n",
      "R2 score = 0.913255567948238\n"
     ]
    }
   ],
   "source": [
    "ridge = Ridge(alpha=0.001)\n",
    "ridge.fit(X_scaler, y)\n",
    "print(\"Mean absolute error =\", sm.mean_absolute_error(y, ridge.predict(X_scaler))) \n",
    "print(\"Mean squared error =\", sm.mean_squared_error(y, ridge.predict(X_scaler)))\n",
    "print(\"Median absolute error =\", sm.median_absolute_error(y, ridge.predict(X_scaler))) \n",
    "print(\"Explain variance score =\", sm.explained_variance_score(y, ridge.predict(X_scaler))) \n",
    "print(\"R2 score =\", sm.r2_score(y, ridge.predict(X_scaler)))"
   ]
  },
  {
   "cell_type": "code",
   "execution_count": 28,
   "id": "1222bc6e",
   "metadata": {
    "execution": {
     "iopub.execute_input": "2022-06-13T20:34:52.049554Z",
     "iopub.status.busy": "2022-06-13T20:34:52.048330Z",
     "iopub.status.idle": "2022-06-13T20:34:52.063648Z",
     "shell.execute_reply": "2022-06-13T20:34:52.064569Z",
     "shell.execute_reply.started": "2022-06-13T20:33:41.548551Z"
    },
    "papermill": {
     "duration": 0.122965,
     "end_time": "2022-06-13T20:34:52.064898",
     "exception": false,
     "start_time": "2022-06-13T20:34:51.941933",
     "status": "completed"
    },
    "tags": []
   },
   "outputs": [
    {
     "data": {
      "text/html": [
       "<div>\n",
       "<style scoped>\n",
       "    .dataframe tbody tr th:only-of-type {\n",
       "        vertical-align: middle;\n",
       "    }\n",
       "\n",
       "    .dataframe tbody tr th {\n",
       "        vertical-align: top;\n",
       "    }\n",
       "\n",
       "    .dataframe thead th {\n",
       "        text-align: right;\n",
       "    }\n",
       "</style>\n",
       "<table border=\"1\" class=\"dataframe\">\n",
       "  <thead>\n",
       "    <tr style=\"text-align: right;\">\n",
       "      <th></th>\n",
       "      <th>Id</th>\n",
       "      <th>SalePrice</th>\n",
       "    </tr>\n",
       "  </thead>\n",
       "  <tbody>\n",
       "    <tr>\n",
       "      <th>0</th>\n",
       "      <td>1461</td>\n",
       "      <td>120877.749925</td>\n",
       "    </tr>\n",
       "    <tr>\n",
       "      <th>1</th>\n",
       "      <td>1462</td>\n",
       "      <td>154838.701629</td>\n",
       "    </tr>\n",
       "    <tr>\n",
       "      <th>2</th>\n",
       "      <td>1463</td>\n",
       "      <td>186715.411054</td>\n",
       "    </tr>\n",
       "    <tr>\n",
       "      <th>3</th>\n",
       "      <td>1464</td>\n",
       "      <td>202484.227438</td>\n",
       "    </tr>\n",
       "    <tr>\n",
       "      <th>4</th>\n",
       "      <td>1465</td>\n",
       "      <td>199541.397365</td>\n",
       "    </tr>\n",
       "    <tr>\n",
       "      <th>5</th>\n",
       "      <td>1466</td>\n",
       "      <td>180349.073707</td>\n",
       "    </tr>\n",
       "    <tr>\n",
       "      <th>6</th>\n",
       "      <td>1467</td>\n",
       "      <td>191014.466644</td>\n",
       "    </tr>\n",
       "    <tr>\n",
       "      <th>7</th>\n",
       "      <td>1468</td>\n",
       "      <td>167380.364724</td>\n",
       "    </tr>\n",
       "    <tr>\n",
       "      <th>8</th>\n",
       "      <td>1469</td>\n",
       "      <td>197876.660823</td>\n",
       "    </tr>\n",
       "    <tr>\n",
       "      <th>9</th>\n",
       "      <td>1470</td>\n",
       "      <td>110305.705049</td>\n",
       "    </tr>\n",
       "  </tbody>\n",
       "</table>\n",
       "</div>"
      ],
      "text/plain": [
       "     Id      SalePrice\n",
       "0  1461  120877.749925\n",
       "1  1462  154838.701629\n",
       "2  1463  186715.411054\n",
       "3  1464  202484.227438\n",
       "4  1465  199541.397365\n",
       "5  1466  180349.073707\n",
       "6  1467  191014.466644\n",
       "7  1468  167380.364724\n",
       "8  1469  197876.660823\n",
       "9  1470  110305.705049"
      ]
     },
     "execution_count": 28,
     "metadata": {},
     "output_type": "execute_result"
    }
   ],
   "source": [
    "result = pd.DataFrame({'Id':list(test.index), 'SalePrice': np.e**ridge.predict(test_scaler)})\n",
    "result.head(10)"
   ]
  },
  {
   "cell_type": "code",
   "execution_count": 29,
   "id": "07714071",
   "metadata": {
    "execution": {
     "iopub.execute_input": "2022-06-13T20:34:52.306240Z",
     "iopub.status.busy": "2022-06-13T20:34:52.304283Z",
     "iopub.status.idle": "2022-06-13T20:34:52.315799Z",
     "shell.execute_reply": "2022-06-13T20:34:52.316400Z",
     "shell.execute_reply.started": "2022-06-13T20:33:41.617866Z"
    },
    "papermill": {
     "duration": 0.10847,
     "end_time": "2022-06-13T20:34:52.316614",
     "exception": false,
     "start_time": "2022-06-13T20:34:52.208144",
     "status": "completed"
    },
    "tags": []
   },
   "outputs": [],
   "source": [
    "result.to_csv(\"result.csv\", index=False)"
   ]
  }
 ],
 "metadata": {
  "kernelspec": {
   "display_name": "Python 3",
   "language": "python",
   "name": "python3"
  },
  "language_info": {
   "codemirror_mode": {
    "name": "ipython",
    "version": 3
   },
   "file_extension": ".py",
   "mimetype": "text/x-python",
   "name": "python",
   "nbconvert_exporter": "python",
   "pygments_lexer": "ipython3",
   "version": "3.7.12"
  },
  "papermill": {
   "default_parameters": {},
   "duration": 36.098918,
   "end_time": "2022-06-13T20:34:53.222289",
   "environment_variables": {},
   "exception": null,
   "input_path": "__notebook__.ipynb",
   "output_path": "__notebook__.ipynb",
   "parameters": {},
   "start_time": "2022-06-13T20:34:17.123371",
   "version": "2.3.3"
  }
 },
 "nbformat": 4,
 "nbformat_minor": 5
}
